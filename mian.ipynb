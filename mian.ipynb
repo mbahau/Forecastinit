{
 "cells": [
  {
   "cell_type": "markdown",
   "metadata": {},
   "source": [
    "dependencies </n>\n",
    "Env :: Forecastinit\n",
    "Python=3.11.5"
   ]
  },
  {
   "cell_type": "markdown",
   "metadata": {},
   "source": [
    "Libraries"
   ]
  },
  {
   "cell_type": "code",
   "execution_count": 125,
   "metadata": {},
   "outputs": [],
   "source": [
    "# General \n",
    "import pandas as pd\n",
    "import numpy as np\n",
    "\n",
    "# sklearn \n",
    "from sklearn.ensemble import RandomForestRegressor\n",
    "from sklearn.metrics import mean_squared_error\n",
    "\n",
    "# skforecast \n",
    "from skforecast.datasets import load_demo_dataset\n",
    "from skforecast.ForecasterAutoreg import ForecasterAutoreg\n",
    "from skforecast.model_selection import backtesting_forecaster\n",
    "from skforecast.model_selection import grid_search_forecaster"
   ]
  },
  {
   "cell_type": "markdown",
   "metadata": {},
   "source": [
    "Input"
   ]
  },
  {
   "cell_type": "code",
   "execution_count": 126,
   "metadata": {},
   "outputs": [],
   "source": [
    "Historical_data_org = pd.read_csv('Input/Actual.csv')\n",
    "TimeKey_org = pd.read_csv('Input/Time.csv')\n",
    "Forecast_level = ['Version.[Version Name]', 'Channel.[Channel]', 'Account.[Account]',\n",
    "       'PnL.[PnL]', 'Demand Domain.[Demand Domain]', 'Region.[Region]',\n",
    "       'Location.[Location]', 'Time.[Planning Month]', 'Item.[Item]']\n",
    "Time_column = ['Time.[Planning Month]']\n",
    "Historical_data_column = ['Actual']\n",
    "#Date should be in format of time key column, which is available in TimeKey file \n",
    "Time_key_column_name = \"Time.[PlanningMonthKey]\"\n",
    "Time_key_date_format = \"%m/%d/%Y %I:%M:%S %p\"\n",
    "Historic_start_date = \"M09-20\" \n",
    "Historic_end_date = \"M12-22\"\n",
    "Forecast_start_date = \"M01-23\"\n",
    "Forecast_end_date = \"M03-23\"\n",
    "drivers = ['driver_Month']\n"
   ]
  },
  {
   "cell_type": "markdown",
   "metadata": {},
   "source": [
    "Processing Input"
   ]
  },
  {
   "cell_type": "code",
   "execution_count": 127,
   "metadata": {},
   "outputs": [
    {
     "data": {
      "text/plain": [
       "['Version.[Version Name]',\n",
       " 'Channel.[Channel]',\n",
       " 'Account.[Account]',\n",
       " 'PnL.[PnL]',\n",
       " 'Demand Domain.[Demand Domain]',\n",
       " 'Region.[Region]',\n",
       " 'Location.[Location]',\n",
       " 'Item.[Item]']"
      ]
     },
     "execution_count": 127,
     "metadata": {},
     "output_type": "execute_result"
    }
   ],
   "source": [
    "Forecast_level_minus_time = Forecast_level.copy()\n",
    "Forecast_level_minus_time.remove(Time_column[0])\n",
    "Forecast_level_minus_time"
   ]
  },
  {
   "cell_type": "markdown",
   "metadata": {},
   "source": [
    "Copy Input "
   ]
  },
  {
   "cell_type": "code",
   "execution_count": 128,
   "metadata": {},
   "outputs": [],
   "source": [
    "Historical_data = Historical_data_org.copy(deep=True)\n",
    "TimeKey = TimeKey_org.copy(deep=True)\n",
    "TimeKey['TimeKey'] = pd.to_datetime(TimeKey[Time_key_column_name], format=Time_key_date_format)"
   ]
  },
  {
   "cell_type": "code",
   "execution_count": 129,
   "metadata": {},
   "outputs": [],
   "source": [
    "# calculating Historic_end_date_key\n",
    "Historic_start_date_key = pd.to_datetime(TimeKey[TimeKey[Time_column[0]]==Historic_start_date]['TimeKey'].values[0])\n",
    "Historic_end_date_key = pd.to_datetime(TimeKey[TimeKey[Time_column[0]]==Historic_end_date]['TimeKey'].values[0])\n",
    "Forecast_start_date_key = pd.to_datetime(TimeKey[TimeKey[Time_column[0]]==Forecast_start_date]['TimeKey'].values[0])\n",
    "Forecast_end_date_key = pd.to_datetime(TimeKey[TimeKey[Time_column[0]]==Forecast_end_date]['TimeKey'].values[0])"
   ]
  },
  {
   "cell_type": "markdown",
   "metadata": {},
   "source": [
    "Processing Copy Input"
   ]
  },
  {
   "cell_type": "code",
   "execution_count": 130,
   "metadata": {},
   "outputs": [],
   "source": [
    "Historical_data[Historical_data_column] = Historical_data[Historical_data_column].astype(float)\n"
   ]
  },
  {
   "cell_type": "markdown",
   "metadata": {},
   "source": [
    "Creating Key in Historical Data"
   ]
  },
  {
   "cell_type": "code",
   "execution_count": 131,
   "metadata": {},
   "outputs": [
    {
     "data": {
      "text/html": [
       "<div>\n",
       "<style scoped>\n",
       "    .dataframe tbody tr th:only-of-type {\n",
       "        vertical-align: middle;\n",
       "    }\n",
       "\n",
       "    .dataframe tbody tr th {\n",
       "        vertical-align: top;\n",
       "    }\n",
       "\n",
       "    .dataframe thead th {\n",
       "        text-align: right;\n",
       "    }\n",
       "</style>\n",
       "<table border=\"1\" class=\"dataframe\">\n",
       "  <thead>\n",
       "    <tr style=\"text-align: right;\">\n",
       "      <th></th>\n",
       "      <th>Time.[Planning Month]</th>\n",
       "      <th>Actual</th>\n",
       "      <th>key</th>\n",
       "    </tr>\n",
       "  </thead>\n",
       "  <tbody>\n",
       "    <tr>\n",
       "      <th>0</th>\n",
       "      <td>M07-20</td>\n",
       "      <td>445.0</td>\n",
       "      <td>CurrentWorkingView__ MDJoinner__B2B__ MDJoinne...</td>\n",
       "    </tr>\n",
       "    <tr>\n",
       "      <th>1</th>\n",
       "      <td>M08-20</td>\n",
       "      <td>711.0</td>\n",
       "      <td>CurrentWorkingView__ MDJoinner__B2B__ MDJoinne...</td>\n",
       "    </tr>\n",
       "  </tbody>\n",
       "</table>\n",
       "</div>"
      ],
      "text/plain": [
       "  Time.[Planning Month]  Actual  \\\n",
       "0                M07-20   445.0   \n",
       "1                M08-20   711.0   \n",
       "\n",
       "                                                 key  \n",
       "0  CurrentWorkingView__ MDJoinner__B2B__ MDJoinne...  \n",
       "1  CurrentWorkingView__ MDJoinner__B2B__ MDJoinne...  "
      ]
     },
     "execution_count": 131,
     "metadata": {},
     "output_type": "execute_result"
    }
   ],
   "source": [
    "# creating keys \n",
    "Historical_data['key'] = Historical_data[Forecast_level_minus_time].astype(str).agg(\"__ MDJoinner__\".join, axis=1)\n",
    "# dropping columns, which is already present in keys \n",
    "Historical_data.drop(Forecast_level_minus_time,axis=1,inplace=True) \n",
    "Historical_data.head(2)"
   ]
  },
  {
   "cell_type": "markdown",
   "metadata": {},
   "source": [
    "Custom Filter"
   ]
  },
  {
   "cell_type": "code",
   "execution_count": 132,
   "metadata": {},
   "outputs": [],
   "source": [
    "Historical_data = Historical_data[Historical_data['key']=='CurrentWorkingView__ MDJoinner__B2B__ MDJoinner__AMO__ MDJoinner__DP__ MDJoinner__DP__ MDJoinner__ShipTo1__ MDJoinner__DP__ MDJoinner__Loctite 248 19g Stick']\n",
    "# Historical_data['key'].values"
   ]
  },
  {
   "cell_type": "markdown",
   "metadata": {},
   "source": [
    "Merging Time Key in Historical Data"
   ]
  },
  {
   "cell_type": "code",
   "execution_count": 133,
   "metadata": {},
   "outputs": [
    {
     "data": {
      "text/html": [
       "<div>\n",
       "<style scoped>\n",
       "    .dataframe tbody tr th:only-of-type {\n",
       "        vertical-align: middle;\n",
       "    }\n",
       "\n",
       "    .dataframe tbody tr th {\n",
       "        vertical-align: top;\n",
       "    }\n",
       "\n",
       "    .dataframe thead th {\n",
       "        text-align: right;\n",
       "    }\n",
       "</style>\n",
       "<table border=\"1\" class=\"dataframe\">\n",
       "  <thead>\n",
       "    <tr style=\"text-align: right;\">\n",
       "      <th></th>\n",
       "      <th>Time.[Planning Month]</th>\n",
       "      <th>Actual</th>\n",
       "      <th>key</th>\n",
       "      <th>TimeKey</th>\n",
       "    </tr>\n",
       "  </thead>\n",
       "  <tbody>\n",
       "    <tr>\n",
       "      <th>0</th>\n",
       "      <td>M07-20</td>\n",
       "      <td>445.0</td>\n",
       "      <td>CurrentWorkingView__ MDJoinner__B2B__ MDJoinne...</td>\n",
       "      <td>2020-07-05</td>\n",
       "    </tr>\n",
       "    <tr>\n",
       "      <th>1</th>\n",
       "      <td>M08-20</td>\n",
       "      <td>711.0</td>\n",
       "      <td>CurrentWorkingView__ MDJoinner__B2B__ MDJoinne...</td>\n",
       "      <td>2020-08-02</td>\n",
       "    </tr>\n",
       "  </tbody>\n",
       "</table>\n",
       "</div>"
      ],
      "text/plain": [
       "  Time.[Planning Month]  Actual  \\\n",
       "0                M07-20   445.0   \n",
       "1                M08-20   711.0   \n",
       "\n",
       "                                                 key    TimeKey  \n",
       "0  CurrentWorkingView__ MDJoinner__B2B__ MDJoinne... 2020-07-05  \n",
       "1  CurrentWorkingView__ MDJoinner__B2B__ MDJoinne... 2020-08-02  "
      ]
     },
     "execution_count": 133,
     "metadata": {},
     "output_type": "execute_result"
    }
   ],
   "source": [
    "Historical_data = pd.merge(Historical_data,TimeKey[Time_column+[\"TimeKey\"]],on=Time_column,how='left')\n",
    "Historical_data.head(2)"
   ]
  },
  {
   "cell_type": "code",
   "execution_count": 134,
   "metadata": {},
   "outputs": [
    {
     "data": {
      "text/html": [
       "<div>\n",
       "<style scoped>\n",
       "    .dataframe tbody tr th:only-of-type {\n",
       "        vertical-align: middle;\n",
       "    }\n",
       "\n",
       "    .dataframe tbody tr th {\n",
       "        vertical-align: top;\n",
       "    }\n",
       "\n",
       "    .dataframe thead th {\n",
       "        text-align: right;\n",
       "    }\n",
       "</style>\n",
       "<table border=\"1\" class=\"dataframe\">\n",
       "  <thead>\n",
       "    <tr style=\"text-align: right;\">\n",
       "      <th></th>\n",
       "      <th>Time.[Planning Month]</th>\n",
       "      <th>Actual</th>\n",
       "      <th>key</th>\n",
       "      <th>TimeKey</th>\n",
       "      <th>driver_Month</th>\n",
       "    </tr>\n",
       "  </thead>\n",
       "  <tbody>\n",
       "    <tr>\n",
       "      <th>0</th>\n",
       "      <td>M07-20</td>\n",
       "      <td>445.0</td>\n",
       "      <td>CurrentWorkingView__ MDJoinner__B2B__ MDJoinne...</td>\n",
       "      <td>2020-07-05</td>\n",
       "      <td>7</td>\n",
       "    </tr>\n",
       "    <tr>\n",
       "      <th>1</th>\n",
       "      <td>M08-20</td>\n",
       "      <td>711.0</td>\n",
       "      <td>CurrentWorkingView__ MDJoinner__B2B__ MDJoinne...</td>\n",
       "      <td>2020-08-02</td>\n",
       "      <td>8</td>\n",
       "    </tr>\n",
       "    <tr>\n",
       "      <th>2</th>\n",
       "      <td>M09-20</td>\n",
       "      <td>462.0</td>\n",
       "      <td>CurrentWorkingView__ MDJoinner__B2B__ MDJoinne...</td>\n",
       "      <td>2020-08-30</td>\n",
       "      <td>8</td>\n",
       "    </tr>\n",
       "    <tr>\n",
       "      <th>3</th>\n",
       "      <td>M10-20</td>\n",
       "      <td>174.0</td>\n",
       "      <td>CurrentWorkingView__ MDJoinner__B2B__ MDJoinne...</td>\n",
       "      <td>2020-10-04</td>\n",
       "      <td>10</td>\n",
       "    </tr>\n",
       "    <tr>\n",
       "      <th>4</th>\n",
       "      <td>M11-20</td>\n",
       "      <td>179.0</td>\n",
       "      <td>CurrentWorkingView__ MDJoinner__B2B__ MDJoinne...</td>\n",
       "      <td>2020-11-01</td>\n",
       "      <td>11</td>\n",
       "    </tr>\n",
       "  </tbody>\n",
       "</table>\n",
       "</div>"
      ],
      "text/plain": [
       "  Time.[Planning Month]  Actual  \\\n",
       "0                M07-20   445.0   \n",
       "1                M08-20   711.0   \n",
       "2                M09-20   462.0   \n",
       "3                M10-20   174.0   \n",
       "4                M11-20   179.0   \n",
       "\n",
       "                                                 key    TimeKey  driver_Month  \n",
       "0  CurrentWorkingView__ MDJoinner__B2B__ MDJoinne... 2020-07-05             7  \n",
       "1  CurrentWorkingView__ MDJoinner__B2B__ MDJoinne... 2020-08-02             8  \n",
       "2  CurrentWorkingView__ MDJoinner__B2B__ MDJoinne... 2020-08-30             8  \n",
       "3  CurrentWorkingView__ MDJoinner__B2B__ MDJoinne... 2020-10-04            10  \n",
       "4  CurrentWorkingView__ MDJoinner__B2B__ MDJoinne... 2020-11-01            11  "
      ]
     },
     "execution_count": 134,
     "metadata": {},
     "output_type": "execute_result"
    }
   ],
   "source": [
    "# Creating drivers \n",
    "Historical_data['driver_Month'] = Historical_data['TimeKey'].dt.month\n",
    "Historical_data.head()"
   ]
  },
  {
   "cell_type": "markdown",
   "metadata": {},
   "source": [
    "Train Data"
   ]
  },
  {
   "cell_type": "code",
   "execution_count": 135,
   "metadata": {},
   "outputs": [],
   "source": [
    "train = Historical_data[(Historical_data['TimeKey']>=Historic_start_date_key)&(Historical_data['TimeKey']<=Historic_end_date_key)]\n",
    "X_train = train[['key','TimeKey']+drivers]\n",
    "y_train = train[[Historical_data_column[0]]]"
   ]
  },
  {
   "cell_type": "markdown",
   "metadata": {},
   "source": [
    "Test Data"
   ]
  },
  {
   "cell_type": "code",
   "execution_count": 136,
   "metadata": {},
   "outputs": [],
   "source": [
    "test = Historical_data[(Historical_data['TimeKey']>=Forecast_start_date_key)&(Historical_data['TimeKey']<=Forecast_end_date_key)]\n",
    "X_test = test[['key','TimeKey']+drivers]\n",
    "y_test = test[[Historical_data_column[0]]]"
   ]
  },
  {
   "cell_type": "code",
   "execution_count": 140,
   "metadata": {},
   "outputs": [
    {
     "name": "stderr",
     "output_type": "stream",
     "text": [
      "/home/mdbahauddinlinux/anaconda32023/envs/Forecastinit/lib/python3.11/site-packages/skforecast/utils/utils.py:815: UserWarning: `y` has no DatetimeIndex nor RangeIndex index. Index is overwritten with a RangeIndex.\n",
      "  warnings.warn(\n",
      "/home/mdbahauddinlinux/anaconda32023/envs/Forecastinit/lib/python3.11/site-packages/skforecast/utils/utils.py:940: UserWarning: `exog` has no DatetimeIndex nor RangeIndex index. Index is overwritten with a RangeIndex.\n",
      "  warnings.warn(\n",
      "/home/mdbahauddinlinux/anaconda32023/envs/Forecastinit/lib/python3.11/site-packages/skforecast/utils/utils.py:815: UserWarning: `y` has no DatetimeIndex nor RangeIndex index. Index is overwritten with a RangeIndex.\n",
      "  warnings.warn(\n"
     ]
    },
    {
     "data": {
      "text/plain": [
       "================= \n",
       "ForecasterAutoreg \n",
       "================= \n",
       "Regressor: RandomForestRegressor(random_state=123) \n",
       "Lags: [1] \n",
       "Transformer for y: None \n",
       "Transformer for exog: None \n",
       "Window size: 1 \n",
       "Weight function included: False \n",
       "Differentiation order: None \n",
       "Exogenous included: True \n",
       "Type of exogenous variable: <class 'pandas.core.frame.DataFrame'> \n",
       "Exogenous variables names: ['driver_Month'] \n",
       "Training range: [0, 27] \n",
       "Training index type: RangeIndex \n",
       "Training index frequency: 1 \n",
       "Regressor parameters: {'bootstrap': True, 'ccp_alpha': 0.0, 'criterion': 'squared_error', 'max_depth': None, 'max_features': 1.0, 'max_leaf_nodes': None, 'max_samples': None, 'min_impurity_decrease': 0.0, 'min_samples_leaf': 1, 'min_samples_split': 2, 'min_weight_fraction_leaf': 0.0, 'n_estimators': 100, 'n_jobs': None, 'oob_score': False, 'random_state': 123, 'verbose': 0, 'warm_start': False} \n",
       "fit_kwargs: {} \n",
       "Creation date: 2024-01-22 19:54:25 \n",
       "Last fit date: 2024-01-22 19:54:25 \n",
       "Skforecast version: 0.11.0 \n",
       "Python version: 3.11.5 \n",
       "Forecaster id: None "
      ]
     },
     "execution_count": 140,
     "metadata": {},
     "output_type": "execute_result"
    }
   ],
   "source": [
    "forecaster = ForecasterAutoreg(\n",
    "                 regressor = RandomForestRegressor(random_state=123),\n",
    "                 lags      = [1]\n",
    "             )\n",
    "\n",
    "forecaster.fit(y=y_train[Historical_data_column[0]], exog=X_train[drivers])\n",
    "forecaster"
   ]
  },
  {
   "cell_type": "code",
   "execution_count": 161,
   "metadata": {},
   "outputs": [
    {
     "name": "stderr",
     "output_type": "stream",
     "text": [
      "/home/mdbahauddinlinux/anaconda32023/envs/Forecastinit/lib/python3.11/site-packages/skforecast/utils/utils.py:877: UserWarning: `last_window` has no DatetimeIndex nor RangeIndex index. Index is overwritten with a RangeIndex.\n",
      "  warnings.warn(\n",
      "/home/mdbahauddinlinux/anaconda32023/envs/Forecastinit/lib/python3.11/site-packages/skforecast/utils/utils.py:929: UserWarning: `exog` has DatetimeIndex index but no frequency. Index is overwritten with a RangeIndex of step 1.\n",
      "  warnings.warn(\n"
     ]
    },
    {
     "ename": "UnboundLocalError",
     "evalue": "cannot access local variable 'new_index' where it is not associated with a value",
     "output_type": "error",
     "traceback": [
      "\u001b[0;31m---------------------------------------------------------------------------\u001b[0m",
      "\u001b[0;31mUnboundLocalError\u001b[0m                         Traceback (most recent call last)",
      "Cell \u001b[0;32mIn[161], line 2\u001b[0m\n\u001b[1;32m      1\u001b[0m \u001b[38;5;66;03m# Predict intervals\u001b[39;00m\n\u001b[0;32m----> 2\u001b[0m predictions \u001b[38;5;241m=\u001b[39m forecaster\u001b[38;5;241m.\u001b[39mpredict_interval(steps\u001b[38;5;241m=\u001b[39m\u001b[38;5;241m1\u001b[39m, exog\u001b[38;5;241m=\u001b[39mX_test[drivers\u001b[38;5;241m+\u001b[39m[\u001b[38;5;124m'\u001b[39m\u001b[38;5;124mTimeKey\u001b[39m\u001b[38;5;124m'\u001b[39m]]\u001b[38;5;241m.\u001b[39mset_index(\u001b[38;5;124m'\u001b[39m\u001b[38;5;124mTimeKey\u001b[39m\u001b[38;5;124m'\u001b[39m))\n",
      "File \u001b[0;32m~/anaconda32023/envs/Forecastinit/lib/python3.11/site-packages/skforecast/ForecasterAutoreg/ForecasterAutoreg.py:973\u001b[0m, in \u001b[0;36mForecasterAutoreg.predict_interval\u001b[0;34m(self, steps, last_window, exog, interval, n_boot, random_state, in_sample_residuals)\u001b[0m\n\u001b[1;32m    920\u001b[0m \u001b[38;5;250m\u001b[39m\u001b[38;5;124;03m\"\"\"\u001b[39;00m\n\u001b[1;32m    921\u001b[0m \u001b[38;5;124;03mIterative process in which each prediction is used as a predictor\u001b[39;00m\n\u001b[1;32m    922\u001b[0m \u001b[38;5;124;03mfor the next step, and bootstrapping is used to estimate prediction\u001b[39;00m\n\u001b[0;32m   (...)\u001b[0m\n\u001b[1;32m    968\u001b[0m \u001b[38;5;124;03m\u001b[39;00m\n\u001b[1;32m    969\u001b[0m \u001b[38;5;124;03m\"\"\"\u001b[39;00m\n\u001b[1;32m    971\u001b[0m check_interval(interval\u001b[38;5;241m=\u001b[39minterval)\n\u001b[0;32m--> 973\u001b[0m predictions \u001b[38;5;241m=\u001b[39m \u001b[38;5;28mself\u001b[39m\u001b[38;5;241m.\u001b[39mpredict(\n\u001b[1;32m    974\u001b[0m                   steps       \u001b[38;5;241m=\u001b[39m steps,\n\u001b[1;32m    975\u001b[0m                   last_window \u001b[38;5;241m=\u001b[39m last_window,\n\u001b[1;32m    976\u001b[0m                   exog        \u001b[38;5;241m=\u001b[39m exog\n\u001b[1;32m    977\u001b[0m               )\n\u001b[1;32m    979\u001b[0m boot_predictions \u001b[38;5;241m=\u001b[39m \u001b[38;5;28mself\u001b[39m\u001b[38;5;241m.\u001b[39mpredict_bootstrapping(\n\u001b[1;32m    980\u001b[0m                        steps               \u001b[38;5;241m=\u001b[39m steps,\n\u001b[1;32m    981\u001b[0m                        last_window         \u001b[38;5;241m=\u001b[39m last_window,\n\u001b[0;32m   (...)\u001b[0m\n\u001b[1;32m    985\u001b[0m                        in_sample_residuals \u001b[38;5;241m=\u001b[39m in_sample_residuals\n\u001b[1;32m    986\u001b[0m                    )\n\u001b[1;32m    988\u001b[0m interval \u001b[38;5;241m=\u001b[39m np\u001b[38;5;241m.\u001b[39marray(interval)\u001b[38;5;241m/\u001b[39m\u001b[38;5;241m100\u001b[39m\n",
      "File \u001b[0;32m~/anaconda32023/envs/Forecastinit/lib/python3.11/site-packages/skforecast/ForecasterAutoreg/ForecasterAutoreg.py:643\u001b[0m, in \u001b[0;36mForecasterAutoreg.predict\u001b[0;34m(self, steps, last_window, exog)\u001b[0m\n\u001b[1;32m    640\u001b[0m \u001b[38;5;28;01mif\u001b[39;00m last_window \u001b[38;5;129;01mis\u001b[39;00m \u001b[38;5;28;01mNone\u001b[39;00m:\n\u001b[1;32m    641\u001b[0m     last_window \u001b[38;5;241m=\u001b[39m \u001b[38;5;28mself\u001b[39m\u001b[38;5;241m.\u001b[39mlast_window\n\u001b[0;32m--> 643\u001b[0m check_predict_input(\n\u001b[1;32m    644\u001b[0m     forecaster_name  \u001b[38;5;241m=\u001b[39m \u001b[38;5;28mtype\u001b[39m(\u001b[38;5;28mself\u001b[39m)\u001b[38;5;241m.\u001b[39m\u001b[38;5;18m__name__\u001b[39m,\n\u001b[1;32m    645\u001b[0m     steps            \u001b[38;5;241m=\u001b[39m steps,\n\u001b[1;32m    646\u001b[0m     fitted           \u001b[38;5;241m=\u001b[39m \u001b[38;5;28mself\u001b[39m\u001b[38;5;241m.\u001b[39mfitted,\n\u001b[1;32m    647\u001b[0m     included_exog    \u001b[38;5;241m=\u001b[39m \u001b[38;5;28mself\u001b[39m\u001b[38;5;241m.\u001b[39mincluded_exog,\n\u001b[1;32m    648\u001b[0m     index_type       \u001b[38;5;241m=\u001b[39m \u001b[38;5;28mself\u001b[39m\u001b[38;5;241m.\u001b[39mindex_type,\n\u001b[1;32m    649\u001b[0m     index_freq       \u001b[38;5;241m=\u001b[39m \u001b[38;5;28mself\u001b[39m\u001b[38;5;241m.\u001b[39mindex_freq,\n\u001b[1;32m    650\u001b[0m     window_size      \u001b[38;5;241m=\u001b[39m \u001b[38;5;28mself\u001b[39m\u001b[38;5;241m.\u001b[39mwindow_size,\n\u001b[1;32m    651\u001b[0m     last_window      \u001b[38;5;241m=\u001b[39m last_window,\n\u001b[1;32m    652\u001b[0m     last_window_exog \u001b[38;5;241m=\u001b[39m \u001b[38;5;28;01mNone\u001b[39;00m,\n\u001b[1;32m    653\u001b[0m     exog             \u001b[38;5;241m=\u001b[39m exog,\n\u001b[1;32m    654\u001b[0m     exog_type        \u001b[38;5;241m=\u001b[39m \u001b[38;5;28mself\u001b[39m\u001b[38;5;241m.\u001b[39mexog_type,\n\u001b[1;32m    655\u001b[0m     exog_col_names   \u001b[38;5;241m=\u001b[39m \u001b[38;5;28mself\u001b[39m\u001b[38;5;241m.\u001b[39mexog_col_names,\n\u001b[1;32m    656\u001b[0m     interval         \u001b[38;5;241m=\u001b[39m \u001b[38;5;28;01mNone\u001b[39;00m,\n\u001b[1;32m    657\u001b[0m     alpha            \u001b[38;5;241m=\u001b[39m \u001b[38;5;28;01mNone\u001b[39;00m,\n\u001b[1;32m    658\u001b[0m     max_steps        \u001b[38;5;241m=\u001b[39m \u001b[38;5;28;01mNone\u001b[39;00m,\n\u001b[1;32m    659\u001b[0m     levels           \u001b[38;5;241m=\u001b[39m \u001b[38;5;28;01mNone\u001b[39;00m,\n\u001b[1;32m    660\u001b[0m     series_col_names \u001b[38;5;241m=\u001b[39m \u001b[38;5;28;01mNone\u001b[39;00m\n\u001b[1;32m    661\u001b[0m )\n\u001b[1;32m    663\u001b[0m last_window \u001b[38;5;241m=\u001b[39m last_window\u001b[38;5;241m.\u001b[39miloc[\u001b[38;5;241m-\u001b[39m\u001b[38;5;28mself\u001b[39m\u001b[38;5;241m.\u001b[39mwindow_size:]\u001b[38;5;241m.\u001b[39mcopy()\n\u001b[1;32m    665\u001b[0m \u001b[38;5;28;01mif\u001b[39;00m exog \u001b[38;5;129;01mis\u001b[39;00m \u001b[38;5;129;01mnot\u001b[39;00m \u001b[38;5;28;01mNone\u001b[39;00m:\n",
      "File \u001b[0;32m~/anaconda32023/envs/Forecastinit/lib/python3.11/site-packages/skforecast/utils/utils.py:705\u001b[0m, in \u001b[0;36mcheck_predict_input\u001b[0;34m(forecaster_name, steps, fitted, included_exog, index_type, index_freq, window_size, last_window, last_window_exog, exog, exog_type, exog_col_names, interval, alpha, max_steps, levels, series_col_names)\u001b[0m\n\u001b[1;32m    699\u001b[0m         \u001b[38;5;28;01mraise\u001b[39;00m \u001b[38;5;167;01mTypeError\u001b[39;00m(\n\u001b[1;32m    700\u001b[0m             (\u001b[38;5;124mf\u001b[39m\u001b[38;5;124m\"\u001b[39m\u001b[38;5;124mExpected frequency of type \u001b[39m\u001b[38;5;132;01m{\u001b[39;00mindex_freq\u001b[38;5;132;01m}\u001b[39;00m\u001b[38;5;124m for `exog`. \u001b[39m\u001b[38;5;124m\"\u001b[39m\n\u001b[1;32m    701\u001b[0m              \u001b[38;5;124mf\u001b[39m\u001b[38;5;124m\"\u001b[39m\u001b[38;5;124mGot \u001b[39m\u001b[38;5;132;01m{\u001b[39;00mexog_index\u001b[38;5;241m.\u001b[39mfreqstr\u001b[38;5;132;01m}\u001b[39;00m\u001b[38;5;124m.\u001b[39m\u001b[38;5;124m\"\u001b[39m)\n\u001b[1;32m    702\u001b[0m         )\n\u001b[1;32m    704\u001b[0m \u001b[38;5;66;03m# Check exog starts one step ahead of last_window end.\u001b[39;00m\n\u001b[0;32m--> 705\u001b[0m expected_index \u001b[38;5;241m=\u001b[39m expand_index(last_window\u001b[38;5;241m.\u001b[39mindex, \u001b[38;5;241m1\u001b[39m)[\u001b[38;5;241m0\u001b[39m]\n\u001b[1;32m    706\u001b[0m \u001b[38;5;28;01mif\u001b[39;00m expected_index \u001b[38;5;241m!=\u001b[39m exog\u001b[38;5;241m.\u001b[39mindex[\u001b[38;5;241m0\u001b[39m]:\n\u001b[1;32m    707\u001b[0m     \u001b[38;5;28;01mraise\u001b[39;00m \u001b[38;5;167;01mValueError\u001b[39;00m(\n\u001b[1;32m    708\u001b[0m         (\u001b[38;5;124mf\u001b[39m\u001b[38;5;124m\"\u001b[39m\u001b[38;5;124mTo make predictions `exog` must start one step ahead of `last_window`.\u001b[39m\u001b[38;5;130;01m\\n\u001b[39;00m\u001b[38;5;124m\"\u001b[39m\n\u001b[1;32m    709\u001b[0m          \u001b[38;5;124mf\u001b[39m\u001b[38;5;124m\"\u001b[39m\u001b[38;5;124m    `last_window` ends at : \u001b[39m\u001b[38;5;132;01m{\u001b[39;00mlast_window\u001b[38;5;241m.\u001b[39mindex[\u001b[38;5;241m-\u001b[39m\u001b[38;5;241m1\u001b[39m]\u001b[38;5;132;01m}\u001b[39;00m\u001b[38;5;124m.\u001b[39m\u001b[38;5;130;01m\\n\u001b[39;00m\u001b[38;5;124m\"\u001b[39m\n\u001b[1;32m    710\u001b[0m          \u001b[38;5;124mf\u001b[39m\u001b[38;5;124m\"\u001b[39m\u001b[38;5;124m    `exog` starts at      : \u001b[39m\u001b[38;5;132;01m{\u001b[39;00mexog\u001b[38;5;241m.\u001b[39mindex[\u001b[38;5;241m0\u001b[39m]\u001b[38;5;132;01m}\u001b[39;00m\u001b[38;5;124m.\u001b[39m\u001b[38;5;130;01m\\n\u001b[39;00m\u001b[38;5;124m\"\u001b[39m\n\u001b[1;32m    711\u001b[0m          \u001b[38;5;124mf\u001b[39m\u001b[38;5;124m\"\u001b[39m\u001b[38;5;124m     Expected index       : \u001b[39m\u001b[38;5;132;01m{\u001b[39;00mexpected_index\u001b[38;5;132;01m}\u001b[39;00m\u001b[38;5;124m.\u001b[39m\u001b[38;5;124m\"\u001b[39m)\n\u001b[1;32m    712\u001b[0m     )\n",
      "File \u001b[0;32m~/anaconda32023/envs/Forecastinit/lib/python3.11/site-packages/skforecast/utils/utils.py:1132\u001b[0m, in \u001b[0;36mexpand_index\u001b[0;34m(index, steps)\u001b[0m\n\u001b[1;32m   1126\u001b[0m \u001b[38;5;28;01melse\u001b[39;00m: \n\u001b[1;32m   1127\u001b[0m     new_index \u001b[38;5;241m=\u001b[39m pd\u001b[38;5;241m.\u001b[39mRangeIndex(\n\u001b[1;32m   1128\u001b[0m                     start \u001b[38;5;241m=\u001b[39m \u001b[38;5;241m0\u001b[39m,\n\u001b[1;32m   1129\u001b[0m                     stop  \u001b[38;5;241m=\u001b[39m steps\n\u001b[1;32m   1130\u001b[0m                 )\n\u001b[0;32m-> 1132\u001b[0m \u001b[38;5;28;01mreturn\u001b[39;00m new_index\n",
      "\u001b[0;31mUnboundLocalError\u001b[0m: cannot access local variable 'new_index' where it is not associated with a value"
     ]
    }
   ],
   "source": [
    "# Predict intervals\n",
    "predictions = forecaster.predict_interval(steps=1, exog=X_test[drivers+['TimeKey']].set_index('TimeKey'))\n",
    "# predictions.head(1)"
   ]
  },
  {
   "cell_type": "code",
   "execution_count": 160,
   "metadata": {},
   "outputs": [
    {
     "data": {
      "text/html": [
       "<div>\n",
       "<style scoped>\n",
       "    .dataframe tbody tr th:only-of-type {\n",
       "        vertical-align: middle;\n",
       "    }\n",
       "\n",
       "    .dataframe tbody tr th {\n",
       "        vertical-align: top;\n",
       "    }\n",
       "\n",
       "    .dataframe thead th {\n",
       "        text-align: right;\n",
       "    }\n",
       "</style>\n",
       "<table border=\"1\" class=\"dataframe\">\n",
       "  <thead>\n",
       "    <tr style=\"text-align: right;\">\n",
       "      <th></th>\n",
       "      <th>driver_Month</th>\n",
       "    </tr>\n",
       "    <tr>\n",
       "      <th>TimeKey</th>\n",
       "      <th></th>\n",
       "    </tr>\n",
       "  </thead>\n",
       "  <tbody>\n",
       "    <tr>\n",
       "      <th>2023-01-01</th>\n",
       "      <td>1</td>\n",
       "    </tr>\n",
       "    <tr>\n",
       "      <th>2023-01-29</th>\n",
       "      <td>1</td>\n",
       "    </tr>\n",
       "    <tr>\n",
       "      <th>2023-02-26</th>\n",
       "      <td>2</td>\n",
       "    </tr>\n",
       "  </tbody>\n",
       "</table>\n",
       "</div>"
      ],
      "text/plain": [
       "            driver_Month\n",
       "TimeKey                 \n",
       "2023-01-01             1\n",
       "2023-01-29             1\n",
       "2023-02-26             2"
      ]
     },
     "execution_count": 160,
     "metadata": {},
     "output_type": "execute_result"
    }
   ],
   "source": [
    "X_test\n",
    "# drivers\n",
    "# X_test[drivers]\n",
    "X_test[drivers+['TimeKey']].set_index('TimeKey')"
   ]
  },
  {
   "cell_type": "code",
   "execution_count": 149,
   "metadata": {},
   "outputs": [
    {
     "data": {
      "text/plain": [
       "2     462.0\n",
       "3     174.0\n",
       "4     179.0\n",
       "5     231.0\n",
       "6     126.0\n",
       "7     212.0\n",
       "8     231.0\n",
       "9     135.0\n",
       "10    182.0\n",
       "11    288.0\n",
       "12    431.0\n",
       "13    693.0\n",
       "14    473.0\n",
       "15    148.0\n",
       "16    188.0\n",
       "17    241.0\n",
       "18    228.0\n",
       "19    246.0\n",
       "20    209.0\n",
       "21    167.0\n",
       "22    175.0\n",
       "23    232.0\n",
       "24    540.0\n",
       "25    732.0\n",
       "26    627.0\n",
       "27    133.0\n",
       "28    153.0\n",
       "29    194.0\n",
       "Name: Actual, dtype: float64"
      ]
     },
     "execution_count": 149,
     "metadata": {},
     "output_type": "execute_result"
    }
   ],
   "source": [
    "y_train[Historical_data_column[0]]"
   ]
  },
  {
   "cell_type": "code",
   "execution_count": 150,
   "metadata": {},
   "outputs": [
    {
     "data": {
      "text/html": [
       "<div>\n",
       "<style scoped>\n",
       "    .dataframe tbody tr th:only-of-type {\n",
       "        vertical-align: middle;\n",
       "    }\n",
       "\n",
       "    .dataframe tbody tr th {\n",
       "        vertical-align: top;\n",
       "    }\n",
       "\n",
       "    .dataframe thead th {\n",
       "        text-align: right;\n",
       "    }\n",
       "</style>\n",
       "<table border=\"1\" class=\"dataframe\">\n",
       "  <thead>\n",
       "    <tr style=\"text-align: right;\">\n",
       "      <th></th>\n",
       "      <th>driver_Month</th>\n",
       "    </tr>\n",
       "  </thead>\n",
       "  <tbody>\n",
       "    <tr>\n",
       "      <th>2</th>\n",
       "      <td>8</td>\n",
       "    </tr>\n",
       "    <tr>\n",
       "      <th>3</th>\n",
       "      <td>10</td>\n",
       "    </tr>\n",
       "    <tr>\n",
       "      <th>4</th>\n",
       "      <td>11</td>\n",
       "    </tr>\n",
       "    <tr>\n",
       "      <th>5</th>\n",
       "      <td>11</td>\n",
       "    </tr>\n",
       "    <tr>\n",
       "      <th>6</th>\n",
       "      <td>1</td>\n",
       "    </tr>\n",
       "    <tr>\n",
       "      <th>7</th>\n",
       "      <td>1</td>\n",
       "    </tr>\n",
       "    <tr>\n",
       "      <th>8</th>\n",
       "      <td>2</td>\n",
       "    </tr>\n",
       "    <tr>\n",
       "      <th>9</th>\n",
       "      <td>4</td>\n",
       "    </tr>\n",
       "    <tr>\n",
       "      <th>10</th>\n",
       "      <td>5</td>\n",
       "    </tr>\n",
       "    <tr>\n",
       "      <th>11</th>\n",
       "      <td>5</td>\n",
       "    </tr>\n",
       "    <tr>\n",
       "      <th>12</th>\n",
       "      <td>7</td>\n",
       "    </tr>\n",
       "    <tr>\n",
       "      <th>13</th>\n",
       "      <td>8</td>\n",
       "    </tr>\n",
       "    <tr>\n",
       "      <th>14</th>\n",
       "      <td>8</td>\n",
       "    </tr>\n",
       "    <tr>\n",
       "      <th>15</th>\n",
       "      <td>10</td>\n",
       "    </tr>\n",
       "    <tr>\n",
       "      <th>16</th>\n",
       "      <td>10</td>\n",
       "    </tr>\n",
       "    <tr>\n",
       "      <th>17</th>\n",
       "      <td>11</td>\n",
       "    </tr>\n",
       "    <tr>\n",
       "      <th>18</th>\n",
       "      <td>1</td>\n",
       "    </tr>\n",
       "    <tr>\n",
       "      <th>19</th>\n",
       "      <td>1</td>\n",
       "    </tr>\n",
       "    <tr>\n",
       "      <th>20</th>\n",
       "      <td>2</td>\n",
       "    </tr>\n",
       "    <tr>\n",
       "      <th>21</th>\n",
       "      <td>4</td>\n",
       "    </tr>\n",
       "    <tr>\n",
       "      <th>22</th>\n",
       "      <td>5</td>\n",
       "    </tr>\n",
       "    <tr>\n",
       "      <th>23</th>\n",
       "      <td>5</td>\n",
       "    </tr>\n",
       "    <tr>\n",
       "      <th>24</th>\n",
       "      <td>7</td>\n",
       "    </tr>\n",
       "    <tr>\n",
       "      <th>25</th>\n",
       "      <td>7</td>\n",
       "    </tr>\n",
       "    <tr>\n",
       "      <th>26</th>\n",
       "      <td>8</td>\n",
       "    </tr>\n",
       "    <tr>\n",
       "      <th>27</th>\n",
       "      <td>10</td>\n",
       "    </tr>\n",
       "    <tr>\n",
       "      <th>28</th>\n",
       "      <td>10</td>\n",
       "    </tr>\n",
       "    <tr>\n",
       "      <th>29</th>\n",
       "      <td>11</td>\n",
       "    </tr>\n",
       "  </tbody>\n",
       "</table>\n",
       "</div>"
      ],
      "text/plain": [
       "    driver_Month\n",
       "2              8\n",
       "3             10\n",
       "4             11\n",
       "5             11\n",
       "6              1\n",
       "7              1\n",
       "8              2\n",
       "9              4\n",
       "10             5\n",
       "11             5\n",
       "12             7\n",
       "13             8\n",
       "14             8\n",
       "15            10\n",
       "16            10\n",
       "17            11\n",
       "18             1\n",
       "19             1\n",
       "20             2\n",
       "21             4\n",
       "22             5\n",
       "23             5\n",
       "24             7\n",
       "25             7\n",
       "26             8\n",
       "27            10\n",
       "28            10\n",
       "29            11"
      ]
     },
     "execution_count": 150,
     "metadata": {},
     "output_type": "execute_result"
    }
   ],
   "source": [
    "X_train[drivers]"
   ]
  }
 ],
 "metadata": {
  "kernelspec": {
   "display_name": "Henkel",
   "language": "python",
   "name": "python3"
  },
  "language_info": {
   "codemirror_mode": {
    "name": "ipython",
    "version": 3
   },
   "file_extension": ".py",
   "mimetype": "text/x-python",
   "name": "python",
   "nbconvert_exporter": "python",
   "pygments_lexer": "ipython3",
   "version": "3.11.5"
  }
 },
 "nbformat": 4,
 "nbformat_minor": 2
}
