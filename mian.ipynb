{
 "cells": [
  {
   "cell_type": "markdown",
   "metadata": {},
   "source": [
    "dependencies </n>\n",
    "Env :: Forecastinit\n",
    "Python=3.11.5"
   ]
  },
  {
   "cell_type": "markdown",
   "metadata": {},
   "source": [
    "Libraries"
   ]
  },
  {
   "cell_type": "code",
   "execution_count": 168,
   "metadata": {},
   "outputs": [],
   "source": [
    "# General \n",
    "import pandas as pd\n",
    "import numpy as np\n",
    "\n",
    "# sklearn \n",
    "from sklearn.ensemble import RandomForestRegressor\n",
    "from sklearn.metrics import mean_squared_error\n",
    "\n",
    "# skforecast \n",
    "from skforecast.datasets import load_demo_dataset\n",
    "from skforecast.ForecasterAutoreg import ForecasterAutoreg\n",
    "from skforecast.model_selection import backtesting_forecaster\n",
    "from skforecast.model_selection import grid_search_forecaster\n",
    "\n",
    "# ML Models \n",
    "from xgboost import XGBRegressor"
   ]
  },
  {
   "cell_type": "markdown",
   "metadata": {},
   "source": [
    "Input"
   ]
  },
  {
   "cell_type": "code",
   "execution_count": 169,
   "metadata": {},
   "outputs": [],
   "source": [
    "Historical_data_org = pd.read_csv('Input/Actual.csv')\n",
    "TimeKey_org = pd.read_csv('Input/Time.csv')\n",
    "Forecast_level = ['Version.[Version Name]', 'Channel.[Channel]', 'Account.[Account]',\n",
    "       'PnL.[PnL]', 'Demand Domain.[Demand Domain]', 'Region.[Region]',\n",
    "       'Location.[Location]', 'Time.[Planning Month]', 'Item.[Item]']\n",
    "Time_column = ['Time.[Planning Month]']\n",
    "Historical_data_column = ['Actual']\n",
    "#Date should be in format of time key column, which is available in TimeKey file \n",
    "Time_key_column_name = \"Time.[PlanningMonthKey]\"\n",
    "Time_key_date_format = \"%m/%d/%Y %I:%M:%S %p\"\n",
    "Historic_start_date = \"M09-20\" \n",
    "Historic_end_date = \"M12-22\"\n",
    "Forecast_start_date = \"M01-23\"\n",
    "Forecast_end_date = \"M03-23\"\n",
    "drivers = ['driver_Month']\n",
    "models = [\"Random Forest\", \"XG Boost\"]\n"
   ]
  },
  {
   "cell_type": "markdown",
   "metadata": {},
   "source": [
    "Custom Functions"
   ]
  },
  {
   "cell_type": "code",
   "execution_count": 170,
   "metadata": {},
   "outputs": [],
   "source": [
    "def split(data,start_date_key,end_date_key,X_cols,y_col):\n",
    "    # Data filter based on start and end date, then split in X and y based on provided columns \n",
    "    data = data[(data['TimeKey']>=start_date_key)&(data['TimeKey']<=end_date_key)]\n",
    "    X = data[['key','TimeKey']+X_cols]\n",
    "    y = data[[y_col]]\n",
    "    return X, y"
   ]
  },
  {
   "cell_type": "markdown",
   "metadata": {},
   "source": [
    "Processing Input"
   ]
  },
  {
   "cell_type": "code",
   "execution_count": 171,
   "metadata": {},
   "outputs": [
    {
     "data": {
      "text/plain": [
       "['Version.[Version Name]',\n",
       " 'Channel.[Channel]',\n",
       " 'Account.[Account]',\n",
       " 'PnL.[PnL]',\n",
       " 'Demand Domain.[Demand Domain]',\n",
       " 'Region.[Region]',\n",
       " 'Location.[Location]',\n",
       " 'Item.[Item]']"
      ]
     },
     "execution_count": 171,
     "metadata": {},
     "output_type": "execute_result"
    }
   ],
   "source": [
    "Forecast_level_minus_time = Forecast_level.copy()\n",
    "Forecast_level_minus_time.remove(Time_column[0])\n",
    "Forecast_level_minus_time"
   ]
  },
  {
   "cell_type": "markdown",
   "metadata": {},
   "source": [
    "Copy Input "
   ]
  },
  {
   "cell_type": "code",
   "execution_count": 172,
   "metadata": {},
   "outputs": [],
   "source": [
    "Historical_data = Historical_data_org.copy(deep=True)\n",
    "TimeKey = TimeKey_org.copy(deep=True)\n",
    "TimeKey['TimeKey'] = pd.to_datetime(TimeKey[Time_key_column_name], format=Time_key_date_format)"
   ]
  },
  {
   "cell_type": "code",
   "execution_count": 173,
   "metadata": {},
   "outputs": [],
   "source": [
    "# calculating Historic_end_date_key\n",
    "Historic_start_date_key = pd.to_datetime(TimeKey[TimeKey[Time_column[0]]==Historic_start_date]['TimeKey'].values[0])\n",
    "Historic_end_date_key = pd.to_datetime(TimeKey[TimeKey[Time_column[0]]==Historic_end_date]['TimeKey'].values[0])\n",
    "Forecast_start_date_key = pd.to_datetime(TimeKey[TimeKey[Time_column[0]]==Forecast_start_date]['TimeKey'].values[0])\n",
    "Forecast_end_date_key = pd.to_datetime(TimeKey[TimeKey[Time_column[0]]==Forecast_end_date]['TimeKey'].values[0])"
   ]
  },
  {
   "cell_type": "markdown",
   "metadata": {},
   "source": [
    "Processing Copy Input"
   ]
  },
  {
   "cell_type": "code",
   "execution_count": 174,
   "metadata": {},
   "outputs": [],
   "source": [
    "Historical_data[Historical_data_column] = Historical_data[Historical_data_column].astype(float)\n"
   ]
  },
  {
   "cell_type": "markdown",
   "metadata": {},
   "source": [
    "Creating Key in Historical Data"
   ]
  },
  {
   "cell_type": "code",
   "execution_count": 175,
   "metadata": {},
   "outputs": [
    {
     "data": {
      "text/html": [
       "<div>\n",
       "<style scoped>\n",
       "    .dataframe tbody tr th:only-of-type {\n",
       "        vertical-align: middle;\n",
       "    }\n",
       "\n",
       "    .dataframe tbody tr th {\n",
       "        vertical-align: top;\n",
       "    }\n",
       "\n",
       "    .dataframe thead th {\n",
       "        text-align: right;\n",
       "    }\n",
       "</style>\n",
       "<table border=\"1\" class=\"dataframe\">\n",
       "  <thead>\n",
       "    <tr style=\"text-align: right;\">\n",
       "      <th></th>\n",
       "      <th>Time.[Planning Month]</th>\n",
       "      <th>Actual</th>\n",
       "      <th>key</th>\n",
       "    </tr>\n",
       "  </thead>\n",
       "  <tbody>\n",
       "    <tr>\n",
       "      <th>0</th>\n",
       "      <td>M07-20</td>\n",
       "      <td>445.0</td>\n",
       "      <td>CurrentWorkingView__ MDJoinner__B2B__ MDJoinne...</td>\n",
       "    </tr>\n",
       "    <tr>\n",
       "      <th>1</th>\n",
       "      <td>M08-20</td>\n",
       "      <td>711.0</td>\n",
       "      <td>CurrentWorkingView__ MDJoinner__B2B__ MDJoinne...</td>\n",
       "    </tr>\n",
       "  </tbody>\n",
       "</table>\n",
       "</div>"
      ],
      "text/plain": [
       "  Time.[Planning Month]  Actual  \\\n",
       "0                M07-20   445.0   \n",
       "1                M08-20   711.0   \n",
       "\n",
       "                                                 key  \n",
       "0  CurrentWorkingView__ MDJoinner__B2B__ MDJoinne...  \n",
       "1  CurrentWorkingView__ MDJoinner__B2B__ MDJoinne...  "
      ]
     },
     "execution_count": 175,
     "metadata": {},
     "output_type": "execute_result"
    }
   ],
   "source": [
    "# creating keys \n",
    "Historical_data['key'] = Historical_data[Forecast_level_minus_time].astype(str).agg(\"__ MDJoinner__\".join, axis=1)\n",
    "# dropping columns, which is already present in keys \n",
    "Historical_data.drop(Forecast_level_minus_time,axis=1,inplace=True) \n",
    "Historical_data.head(2)"
   ]
  },
  {
   "cell_type": "markdown",
   "metadata": {},
   "source": [
    "Custom Filter"
   ]
  },
  {
   "cell_type": "code",
   "execution_count": 176,
   "metadata": {},
   "outputs": [],
   "source": [
    "Historical_data = Historical_data[Historical_data['key']=='CurrentWorkingView__ MDJoinner__B2B__ MDJoinner__AMO__ MDJoinner__DP__ MDJoinner__DP__ MDJoinner__ShipTo1__ MDJoinner__DP__ MDJoinner__Loctite 248 19g Stick']\n",
    "# Historical_data['key'].values"
   ]
  },
  {
   "cell_type": "markdown",
   "metadata": {},
   "source": [
    "Merging Time Key in Historical Data"
   ]
  },
  {
   "cell_type": "code",
   "execution_count": 177,
   "metadata": {},
   "outputs": [
    {
     "data": {
      "text/html": [
       "<div>\n",
       "<style scoped>\n",
       "    .dataframe tbody tr th:only-of-type {\n",
       "        vertical-align: middle;\n",
       "    }\n",
       "\n",
       "    .dataframe tbody tr th {\n",
       "        vertical-align: top;\n",
       "    }\n",
       "\n",
       "    .dataframe thead th {\n",
       "        text-align: right;\n",
       "    }\n",
       "</style>\n",
       "<table border=\"1\" class=\"dataframe\">\n",
       "  <thead>\n",
       "    <tr style=\"text-align: right;\">\n",
       "      <th></th>\n",
       "      <th>Time.[Planning Month]</th>\n",
       "      <th>Actual</th>\n",
       "      <th>key</th>\n",
       "      <th>TimeKey</th>\n",
       "    </tr>\n",
       "  </thead>\n",
       "  <tbody>\n",
       "    <tr>\n",
       "      <th>0</th>\n",
       "      <td>M07-20</td>\n",
       "      <td>445.0</td>\n",
       "      <td>CurrentWorkingView__ MDJoinner__B2B__ MDJoinne...</td>\n",
       "      <td>2020-07-05</td>\n",
       "    </tr>\n",
       "    <tr>\n",
       "      <th>1</th>\n",
       "      <td>M08-20</td>\n",
       "      <td>711.0</td>\n",
       "      <td>CurrentWorkingView__ MDJoinner__B2B__ MDJoinne...</td>\n",
       "      <td>2020-08-02</td>\n",
       "    </tr>\n",
       "  </tbody>\n",
       "</table>\n",
       "</div>"
      ],
      "text/plain": [
       "  Time.[Planning Month]  Actual  \\\n",
       "0                M07-20   445.0   \n",
       "1                M08-20   711.0   \n",
       "\n",
       "                                                 key    TimeKey  \n",
       "0  CurrentWorkingView__ MDJoinner__B2B__ MDJoinne... 2020-07-05  \n",
       "1  CurrentWorkingView__ MDJoinner__B2B__ MDJoinne... 2020-08-02  "
      ]
     },
     "execution_count": 177,
     "metadata": {},
     "output_type": "execute_result"
    }
   ],
   "source": [
    "Historical_data = pd.merge(Historical_data,TimeKey[Time_column+[\"TimeKey\"]],on=Time_column,how='left')\n",
    "Historical_data.head(2)"
   ]
  },
  {
   "cell_type": "code",
   "execution_count": 178,
   "metadata": {},
   "outputs": [
    {
     "data": {
      "text/html": [
       "<div>\n",
       "<style scoped>\n",
       "    .dataframe tbody tr th:only-of-type {\n",
       "        vertical-align: middle;\n",
       "    }\n",
       "\n",
       "    .dataframe tbody tr th {\n",
       "        vertical-align: top;\n",
       "    }\n",
       "\n",
       "    .dataframe thead th {\n",
       "        text-align: right;\n",
       "    }\n",
       "</style>\n",
       "<table border=\"1\" class=\"dataframe\">\n",
       "  <thead>\n",
       "    <tr style=\"text-align: right;\">\n",
       "      <th></th>\n",
       "      <th>Time.[Planning Month]</th>\n",
       "      <th>Actual</th>\n",
       "      <th>key</th>\n",
       "      <th>TimeKey</th>\n",
       "      <th>driver_Month</th>\n",
       "    </tr>\n",
       "  </thead>\n",
       "  <tbody>\n",
       "    <tr>\n",
       "      <th>0</th>\n",
       "      <td>M07-20</td>\n",
       "      <td>445.0</td>\n",
       "      <td>CurrentWorkingView__ MDJoinner__B2B__ MDJoinne...</td>\n",
       "      <td>2020-07-05</td>\n",
       "      <td>7</td>\n",
       "    </tr>\n",
       "    <tr>\n",
       "      <th>1</th>\n",
       "      <td>M08-20</td>\n",
       "      <td>711.0</td>\n",
       "      <td>CurrentWorkingView__ MDJoinner__B2B__ MDJoinne...</td>\n",
       "      <td>2020-08-02</td>\n",
       "      <td>8</td>\n",
       "    </tr>\n",
       "    <tr>\n",
       "      <th>2</th>\n",
       "      <td>M09-20</td>\n",
       "      <td>462.0</td>\n",
       "      <td>CurrentWorkingView__ MDJoinner__B2B__ MDJoinne...</td>\n",
       "      <td>2020-08-30</td>\n",
       "      <td>8</td>\n",
       "    </tr>\n",
       "    <tr>\n",
       "      <th>3</th>\n",
       "      <td>M10-20</td>\n",
       "      <td>174.0</td>\n",
       "      <td>CurrentWorkingView__ MDJoinner__B2B__ MDJoinne...</td>\n",
       "      <td>2020-10-04</td>\n",
       "      <td>10</td>\n",
       "    </tr>\n",
       "    <tr>\n",
       "      <th>4</th>\n",
       "      <td>M11-20</td>\n",
       "      <td>179.0</td>\n",
       "      <td>CurrentWorkingView__ MDJoinner__B2B__ MDJoinne...</td>\n",
       "      <td>2020-11-01</td>\n",
       "      <td>11</td>\n",
       "    </tr>\n",
       "  </tbody>\n",
       "</table>\n",
       "</div>"
      ],
      "text/plain": [
       "  Time.[Planning Month]  Actual  \\\n",
       "0                M07-20   445.0   \n",
       "1                M08-20   711.0   \n",
       "2                M09-20   462.0   \n",
       "3                M10-20   174.0   \n",
       "4                M11-20   179.0   \n",
       "\n",
       "                                                 key    TimeKey  driver_Month  \n",
       "0  CurrentWorkingView__ MDJoinner__B2B__ MDJoinne... 2020-07-05             7  \n",
       "1  CurrentWorkingView__ MDJoinner__B2B__ MDJoinne... 2020-08-02             8  \n",
       "2  CurrentWorkingView__ MDJoinner__B2B__ MDJoinne... 2020-08-30             8  \n",
       "3  CurrentWorkingView__ MDJoinner__B2B__ MDJoinne... 2020-10-04            10  \n",
       "4  CurrentWorkingView__ MDJoinner__B2B__ MDJoinne... 2020-11-01            11  "
      ]
     },
     "execution_count": 178,
     "metadata": {},
     "output_type": "execute_result"
    }
   ],
   "source": [
    "# Creating drivers \n",
    "Historical_data['driver_Month'] = Historical_data['TimeKey'].dt.month\n",
    "Historical_data.head()"
   ]
  },
  {
   "cell_type": "markdown",
   "metadata": {},
   "source": [
    "Train and Test Data"
   ]
  },
  {
   "cell_type": "code",
   "execution_count": 179,
   "metadata": {},
   "outputs": [],
   "source": [
    "X_train, y_train = split(Historical_data, Historic_start_date_key,Historic_end_date_key,drivers,Historical_data_column[0])\n",
    "X_test,y_test = split(Historical_data, Forecast_start_date_key, Forecast_end_date_key, drivers, Historical_data_column[0])"
   ]
  },
  {
   "cell_type": "code",
   "execution_count": null,
   "metadata": {},
   "outputs": [],
   "source": []
  },
  {
   "cell_type": "code",
   "execution_count": 180,
   "metadata": {},
   "outputs": [],
   "source": [
    "# # from sklearn.preprocessing import FunctionTransformer\n",
    "# # transformer_y = FunctionTransformer(func=np.log1p, inverse_func=np.expm1)\n",
    "\n",
    "# forecaster = ForecasterAutoreg(\n",
    "#                  regressor = RandomForestRegressor(random_state=123),\n",
    "#                  lags      = [1]\n",
    "#              )\n",
    "\n",
    "# forecaster.fit(y=y_train[Historical_data_column[0]])\n",
    "# forecaster"
   ]
  },
  {
   "cell_type": "code",
   "execution_count": 201,
   "metadata": {},
   "outputs": [],
   "source": [
    "skforecastpredict(models,X_train,y_train,X_test)"
   ]
  },
  {
   "cell_type": "code",
   "execution_count": 200,
   "metadata": {},
   "outputs": [],
   "source": [
    "def skforecastpredict(models,X_train, y_train, X_test):\n",
    "    # Predicted output data frame \n",
    "    Output = pd.DataFrame()\n",
    "\n",
    "    # converting data frame to series, as sk forecast y accept series \n",
    "    y_train_loc = y_train[y_train.columns.values[0]]\n",
    "\n",
    "    # Random Forest ========================================================================================================================= \n",
    "    if \"Random Forest\" in models:\n",
    "        randomforestforecaster = ForecasterAutoreg(\n",
    "                 regressor = RandomForestRegressor(random_state=123),\n",
    "                 lags      = [2]\n",
    "             )\n",
    "        randomforestforecaster.fit(y= y_train_loc)\n",
    "        y_hat_randomforest = randomforestforecaster.predict_interval(steps=11).reset_index(drop=True)\n",
    "        print(y_hat_randomforest)  \n",
    "        y_hat_randomforest.columns = ['Random Forest Y_hat', 'Random Forest Lower Bound', 'Random Forest Upper Bound']\n",
    "        Output = pd.concat([Output, y_hat_randomforest], axis=1)\n",
    "    # xxxxxxxxxxxxxxxxxxxxxxxxxxxxxxxxxxxxxxxxxxxxxxxxxxxxxxxxxxxxxxxxxxxxxxxxxxxxxxxxxxxxxxxxxxxxxxxxxxxxxxxxxxxxxxxxxxxxxxxxxxxxxxxxxxxxxxxx\n",
    "    \n",
    "    #XG Boost ================================================================================================================================\n",
    "    if \"XG Boost\" in models:\n",
    "        xgboostForecaster = ForecasterAutoreg(\n",
    "                regressor= XGBRegressor(random_state = 213),\n",
    "                lags= [1,2]\n",
    "            )      \n",
    "        xgboostForecaster.fit(y=y_train_loc)\n",
    "        y_hat_xgboost = xgboostForecaster.predict_interval(steps=11).reset_index(drop=True)\n",
    "        y_hat_xgboost.columns = ['XG Boost Y_hat', 'XG Boost Lower Bound', 'XG Boost Upper Bound']\n",
    "        Output = pd.concat([Output, y_hat_xgboost], axis=1)\n",
    "    # xxxxxxxxxxxxxxxxxxxxxxxxxxxxxxxxxxxxxxxxxxxxxxxxxxxxxxxxxxxxxxxxxxxxxxxxxxxxxxxxxxxxxxxxxxxxxxxxxxxxxxxxxxxxxxxxxxxxxxxxxxxxxxxxxxxxxxxx\n",
    "        \n",
    "    return Output"
   ]
  },
  {
   "cell_type": "code",
   "execution_count": 54,
   "metadata": {},
   "outputs": [
    {
     "name": "stderr",
     "output_type": "stream",
     "text": [
      "/home/mdbahauddinlinux/anaconda32023/envs/Forecastinit/lib/python3.11/site-packages/skforecast/utils/utils.py:877: UserWarning: `last_window` has no DatetimeIndex nor RangeIndex index. Index is overwritten with a RangeIndex.\n",
      "  warnings.warn(\n",
      "/home/mdbahauddinlinux/anaconda32023/envs/Forecastinit/lib/python3.11/site-packages/skforecast/utils/utils.py:877: UserWarning: `last_window` has no DatetimeIndex nor RangeIndex index. Index is overwritten with a RangeIndex.\n",
      "  warnings.warn(\n"
     ]
    },
    {
     "data": {
      "text/html": [
       "<div>\n",
       "<style scoped>\n",
       "    .dataframe tbody tr th:only-of-type {\n",
       "        vertical-align: middle;\n",
       "    }\n",
       "\n",
       "    .dataframe tbody tr th {\n",
       "        vertical-align: top;\n",
       "    }\n",
       "\n",
       "    .dataframe thead th {\n",
       "        text-align: right;\n",
       "    }\n",
       "</style>\n",
       "<table border=\"1\" class=\"dataframe\">\n",
       "  <thead>\n",
       "    <tr style=\"text-align: right;\">\n",
       "      <th></th>\n",
       "      <th>pred</th>\n",
       "      <th>lower_bound</th>\n",
       "      <th>upper_bound</th>\n",
       "    </tr>\n",
       "  </thead>\n",
       "  <tbody>\n",
       "    <tr>\n",
       "      <th>1</th>\n",
       "      <td>251.0400</td>\n",
       "      <td>182.140000</td>\n",
       "      <td>417.175500</td>\n",
       "    </tr>\n",
       "    <tr>\n",
       "      <th>2</th>\n",
       "      <td>230.6350</td>\n",
       "      <td>154.260500</td>\n",
       "      <td>541.190500</td>\n",
       "    </tr>\n",
       "    <tr>\n",
       "      <th>3</th>\n",
       "      <td>177.3795</td>\n",
       "      <td>143.727500</td>\n",
       "      <td>569.124250</td>\n",
       "    </tr>\n",
       "    <tr>\n",
       "      <th>4</th>\n",
       "      <td>229.8500</td>\n",
       "      <td>144.845500</td>\n",
       "      <td>590.690000</td>\n",
       "    </tr>\n",
       "    <tr>\n",
       "      <th>5</th>\n",
       "      <td>153.8595</td>\n",
       "      <td>160.200775</td>\n",
       "      <td>598.240000</td>\n",
       "    </tr>\n",
       "    <tr>\n",
       "      <th>6</th>\n",
       "      <td>191.9200</td>\n",
       "      <td>142.487000</td>\n",
       "      <td>612.869350</td>\n",
       "    </tr>\n",
       "    <tr>\n",
       "      <th>7</th>\n",
       "      <td>252.3400</td>\n",
       "      <td>143.407500</td>\n",
       "      <td>595.214750</td>\n",
       "    </tr>\n",
       "    <tr>\n",
       "      <th>8</th>\n",
       "      <td>230.6350</td>\n",
       "      <td>152.443225</td>\n",
       "      <td>583.800500</td>\n",
       "    </tr>\n",
       "    <tr>\n",
       "      <th>9</th>\n",
       "      <td>177.3795</td>\n",
       "      <td>160.534750</td>\n",
       "      <td>570.258750</td>\n",
       "    </tr>\n",
       "    <tr>\n",
       "      <th>10</th>\n",
       "      <td>229.8500</td>\n",
       "      <td>144.255475</td>\n",
       "      <td>671.191275</td>\n",
       "    </tr>\n",
       "    <tr>\n",
       "      <th>11</th>\n",
       "      <td>153.8595</td>\n",
       "      <td>150.437350</td>\n",
       "      <td>604.048750</td>\n",
       "    </tr>\n",
       "  </tbody>\n",
       "</table>\n",
       "</div>"
      ],
      "text/plain": [
       "        pred  lower_bound  upper_bound\n",
       "1   251.0400   182.140000   417.175500\n",
       "2   230.6350   154.260500   541.190500\n",
       "3   177.3795   143.727500   569.124250\n",
       "4   229.8500   144.845500   590.690000\n",
       "5   153.8595   160.200775   598.240000\n",
       "6   191.9200   142.487000   612.869350\n",
       "7   252.3400   143.407500   595.214750\n",
       "8   230.6350   152.443225   583.800500\n",
       "9   177.3795   160.534750   570.258750\n",
       "10  229.8500   144.255475   671.191275\n",
       "11  153.8595   150.437350   604.048750"
      ]
     },
     "execution_count": 54,
     "metadata": {},
     "output_type": "execute_result"
    }
   ],
   "source": [
    "# Predict intervals\n",
    "# predictions = \n",
    "forecaster.predict_interval(steps=1)\n",
    "forecaster.predict_interval(steps=11)\n",
    "# predictions.head(1)"
   ]
  },
  {
   "cell_type": "code",
   "execution_count": 198,
   "metadata": {},
   "outputs": [
    {
     "data": {
      "text/html": [
       "<div>\n",
       "<style scoped>\n",
       "    .dataframe tbody tr th:only-of-type {\n",
       "        vertical-align: middle;\n",
       "    }\n",
       "\n",
       "    .dataframe tbody tr th {\n",
       "        vertical-align: top;\n",
       "    }\n",
       "\n",
       "    .dataframe thead th {\n",
       "        text-align: right;\n",
       "    }\n",
       "</style>\n",
       "<table border=\"1\" class=\"dataframe\">\n",
       "  <thead>\n",
       "    <tr style=\"text-align: right;\">\n",
       "      <th></th>\n",
       "      <th>pred</th>\n",
       "      <th>lower_bound</th>\n",
       "      <th>upper_bound</th>\n",
       "    </tr>\n",
       "  </thead>\n",
       "  <tbody>\n",
       "    <tr>\n",
       "      <th>2</th>\n",
       "      <td>242.180</td>\n",
       "      <td>171.91925</td>\n",
       "      <td>416.80000</td>\n",
       "    </tr>\n",
       "    <tr>\n",
       "      <th>3</th>\n",
       "      <td>275.090</td>\n",
       "      <td>206.50500</td>\n",
       "      <td>449.71000</td>\n",
       "    </tr>\n",
       "    <tr>\n",
       "      <th>4</th>\n",
       "      <td>261.680</td>\n",
       "      <td>120.64050</td>\n",
       "      <td>566.39950</td>\n",
       "    </tr>\n",
       "    <tr>\n",
       "      <th>5</th>\n",
       "      <td>539.310</td>\n",
       "      <td>146.78275</td>\n",
       "      <td>667.02900</td>\n",
       "    </tr>\n",
       "    <tr>\n",
       "      <th>6</th>\n",
       "      <td>244.500</td>\n",
       "      <td>153.08075</td>\n",
       "      <td>621.96000</td>\n",
       "    </tr>\n",
       "    <tr>\n",
       "      <th>7</th>\n",
       "      <td>452.380</td>\n",
       "      <td>131.19425</td>\n",
       "      <td>629.60000</td>\n",
       "    </tr>\n",
       "    <tr>\n",
       "      <th>8</th>\n",
       "      <td>225.340</td>\n",
       "      <td>138.79750</td>\n",
       "      <td>609.27000</td>\n",
       "    </tr>\n",
       "    <tr>\n",
       "      <th>9</th>\n",
       "      <td>221.270</td>\n",
       "      <td>137.12175</td>\n",
       "      <td>571.63900</td>\n",
       "    </tr>\n",
       "    <tr>\n",
       "      <th>10</th>\n",
       "      <td>215.460</td>\n",
       "      <td>141.00500</td>\n",
       "      <td>595.91575</td>\n",
       "    </tr>\n",
       "    <tr>\n",
       "      <th>11</th>\n",
       "      <td>202.755</td>\n",
       "      <td>139.73150</td>\n",
       "      <td>627.32000</td>\n",
       "    </tr>\n",
       "    <tr>\n",
       "      <th>12</th>\n",
       "      <td>164.070</td>\n",
       "      <td>138.00900</td>\n",
       "      <td>619.86200</td>\n",
       "    </tr>\n",
       "  </tbody>\n",
       "</table>\n",
       "</div>"
      ],
      "text/plain": [
       "       pred  lower_bound  upper_bound\n",
       "2   242.180    171.91925    416.80000\n",
       "3   275.090    206.50500    449.71000\n",
       "4   261.680    120.64050    566.39950\n",
       "5   539.310    146.78275    667.02900\n",
       "6   244.500    153.08075    621.96000\n",
       "7   452.380    131.19425    629.60000\n",
       "8   225.340    138.79750    609.27000\n",
       "9   221.270    137.12175    571.63900\n",
       "10  215.460    141.00500    595.91575\n",
       "11  202.755    139.73150    627.32000\n",
       "12  164.070    138.00900    619.86200"
      ]
     },
     "execution_count": 198,
     "metadata": {},
     "output_type": "execute_result"
    }
   ],
   "source": [
    "from sklearn.preprocessing import FunctionTransformer\n",
    "transformer_y = FunctionTransformer(func=np.log1p, inverse_func=np.expm1)\n",
    "\n",
    "forecaster = ForecasterAutoreg(\n",
    "                 regressor = RandomForestRegressor(random_state=123),\n",
    "                 lags      = 2\n",
    "             )\n",
    "\n",
    "forecaster.fit(y=y_train[Historical_data_column[0]])\n",
    "forecaster\n",
    "\n",
    "forecaster.predict_interval(steps=11)"
   ]
  },
  {
   "cell_type": "code",
   "execution_count": 199,
   "metadata": {},
   "outputs": [
    {
     "data": {
      "text/html": [
       "<div>\n",
       "<style scoped>\n",
       "    .dataframe tbody tr th:only-of-type {\n",
       "        vertical-align: middle;\n",
       "    }\n",
       "\n",
       "    .dataframe tbody tr th {\n",
       "        vertical-align: top;\n",
       "    }\n",
       "\n",
       "    .dataframe thead th {\n",
       "        text-align: right;\n",
       "    }\n",
       "</style>\n",
       "<table border=\"1\" class=\"dataframe\">\n",
       "  <thead>\n",
       "    <tr style=\"text-align: right;\">\n",
       "      <th></th>\n",
       "      <th>pred</th>\n",
       "      <th>lower_bound</th>\n",
       "      <th>upper_bound</th>\n",
       "    </tr>\n",
       "  </thead>\n",
       "  <tbody>\n",
       "    <tr>\n",
       "      <th>1</th>\n",
       "      <td>251.0400</td>\n",
       "      <td>182.140000</td>\n",
       "      <td>417.175500</td>\n",
       "    </tr>\n",
       "    <tr>\n",
       "      <th>2</th>\n",
       "      <td>230.6350</td>\n",
       "      <td>154.260500</td>\n",
       "      <td>541.190500</td>\n",
       "    </tr>\n",
       "    <tr>\n",
       "      <th>3</th>\n",
       "      <td>177.3795</td>\n",
       "      <td>143.727500</td>\n",
       "      <td>569.124250</td>\n",
       "    </tr>\n",
       "    <tr>\n",
       "      <th>4</th>\n",
       "      <td>229.8500</td>\n",
       "      <td>144.845500</td>\n",
       "      <td>590.690000</td>\n",
       "    </tr>\n",
       "    <tr>\n",
       "      <th>5</th>\n",
       "      <td>153.8595</td>\n",
       "      <td>160.200775</td>\n",
       "      <td>598.240000</td>\n",
       "    </tr>\n",
       "    <tr>\n",
       "      <th>6</th>\n",
       "      <td>191.9200</td>\n",
       "      <td>142.487000</td>\n",
       "      <td>612.869350</td>\n",
       "    </tr>\n",
       "    <tr>\n",
       "      <th>7</th>\n",
       "      <td>252.3400</td>\n",
       "      <td>143.407500</td>\n",
       "      <td>595.214750</td>\n",
       "    </tr>\n",
       "    <tr>\n",
       "      <th>8</th>\n",
       "      <td>230.6350</td>\n",
       "      <td>152.443225</td>\n",
       "      <td>583.800500</td>\n",
       "    </tr>\n",
       "    <tr>\n",
       "      <th>9</th>\n",
       "      <td>177.3795</td>\n",
       "      <td>160.534750</td>\n",
       "      <td>570.258750</td>\n",
       "    </tr>\n",
       "    <tr>\n",
       "      <th>10</th>\n",
       "      <td>229.8500</td>\n",
       "      <td>144.255475</td>\n",
       "      <td>671.191275</td>\n",
       "    </tr>\n",
       "    <tr>\n",
       "      <th>11</th>\n",
       "      <td>153.8595</td>\n",
       "      <td>150.437350</td>\n",
       "      <td>604.048750</td>\n",
       "    </tr>\n",
       "  </tbody>\n",
       "</table>\n",
       "</div>"
      ],
      "text/plain": [
       "        pred  lower_bound  upper_bound\n",
       "1   251.0400   182.140000   417.175500\n",
       "2   230.6350   154.260500   541.190500\n",
       "3   177.3795   143.727500   569.124250\n",
       "4   229.8500   144.845500   590.690000\n",
       "5   153.8595   160.200775   598.240000\n",
       "6   191.9200   142.487000   612.869350\n",
       "7   252.3400   143.407500   595.214750\n",
       "8   230.6350   152.443225   583.800500\n",
       "9   177.3795   160.534750   570.258750\n",
       "10  229.8500   144.255475   671.191275\n",
       "11  153.8595   150.437350   604.048750"
      ]
     },
     "execution_count": 199,
     "metadata": {},
     "output_type": "execute_result"
    }
   ],
   "source": [
    "from sklearn.preprocessing import FunctionTransformer\n",
    "transformer_y = FunctionTransformer(func=np.log1p, inverse_func=np.expm1)\n",
    "\n",
    "forecaster = ForecasterAutoreg(\n",
    "                 regressor = RandomForestRegressor(random_state=123),\n",
    "                 lags      = 1\n",
    "             )\n",
    "\n",
    "forecaster.fit(y=y_train[Historical_data_column[0]])\n",
    "forecaster\n",
    "\n",
    "forecaster.predict_interval(steps=11)"
   ]
  },
  {
   "cell_type": "code",
   "execution_count": 133,
   "metadata": {},
   "outputs": [
    {
     "name": "stdout",
     "output_type": "stream",
     "text": [
      "2     462.0\n",
      "3     174.0\n",
      "4     179.0\n",
      "5     231.0\n",
      "6     126.0\n",
      "7     212.0\n",
      "8     231.0\n",
      "9     135.0\n",
      "10    182.0\n",
      "11    288.0\n",
      "12    431.0\n",
      "13    693.0\n",
      "14    473.0\n",
      "15    148.0\n",
      "16    188.0\n",
      "17    241.0\n",
      "18    228.0\n",
      "19    246.0\n",
      "20    209.0\n",
      "21    167.0\n",
      "22    175.0\n",
      "23    232.0\n",
      "24    540.0\n",
      "25    732.0\n",
      "26    627.0\n",
      "27    133.0\n",
      "28    153.0\n",
      "29    194.0\n",
      "Name: Actual, dtype: float64\n"
     ]
    }
   ],
   "source": [
    "y_train = y_train[y_train.columns.values[0]]\n",
    "\n",
    "    # Random Forest \n",
    "# if \"Random Forest\" in models:\n",
    "randomforestforecaster = ForecasterAutoreg(\n",
    "            regressor = RandomForestRegressor(random_state=123),\n",
    "            lags      = [2]\n",
    "        )\n",
    "print(y_train)\n",
    "randomforestforecaster.fit(y= y_train)\n",
    "y_hat_randomforest = forecaster.predict_interval(steps=11)        "
   ]
  }
 ],
 "metadata": {
  "kernelspec": {
   "display_name": "Henkel",
   "language": "python",
   "name": "python3"
  },
  "language_info": {
   "codemirror_mode": {
    "name": "ipython",
    "version": 3
   },
   "file_extension": ".py",
   "mimetype": "text/x-python",
   "name": "python",
   "nbconvert_exporter": "python",
   "pygments_lexer": "ipython3",
   "version": "3.11.5"
  }
 },
 "nbformat": 4,
 "nbformat_minor": 2
}
