{
 "cells": [
  {
   "cell_type": "markdown",
   "metadata": {},
   "source": [
    "dependencies </n>\n",
    "Env :: Forecastinit\n",
    "Python=3.11.5"
   ]
  },
  {
   "cell_type": "markdown",
   "metadata": {},
   "source": [
    "Libraries"
   ]
  },
  {
   "cell_type": "code",
   "execution_count": 208,
   "metadata": {},
   "outputs": [],
   "source": [
    "# General \n",
    "import pandas as pd\n",
    "import numpy as np\n",
    "\n",
    "# sklearn \n",
    "from sklearn.ensemble import RandomForestRegressor\n",
    "from sklearn.metrics import mean_squared_error\n",
    "\n",
    "# skforecast \n",
    "from skforecast.datasets import load_demo_dataset\n",
    "from skforecast.ForecasterAutoreg import ForecasterAutoreg\n",
    "from skforecast.model_selection import backtesting_forecaster\n",
    "from skforecast.model_selection import grid_search_forecaster\n",
    "\n",
    "# ML Models \n",
    "from xgboost import XGBRegressor"
   ]
  },
  {
   "cell_type": "markdown",
   "metadata": {},
   "source": [
    "Input"
   ]
  },
  {
   "cell_type": "code",
   "execution_count": 209,
   "metadata": {},
   "outputs": [],
   "source": [
    "Historical_data_org = pd.read_csv('Input/Actual.csv')\n",
    "TimeKey_org = pd.read_csv('Input/Time.csv')\n",
    "Forecast_level = ['Version.[Version Name]', 'Channel.[Channel]', 'Account.[Account]',\n",
    "       'PnL.[PnL]', 'Demand Domain.[Demand Domain]', 'Region.[Region]',\n",
    "       'Location.[Location]', 'Time.[Planning Month]', 'Item.[Item]']\n",
    "Time_column = ['Time.[Planning Month]']\n",
    "Historical_data_column = ['Actual']\n",
    "#Date should be in format of time key column, which is available in TimeKey file \n",
    "Time_key_column_name = \"Time.[PlanningMonthKey]\"\n",
    "Time_key_date_format = \"%m/%d/%Y %I:%M:%S %p\"\n",
    "Historic_start_date = \"M09-20\" \n",
    "Historic_end_date = \"M12-22\"\n",
    "Forecast_start_date = \"M01-23\"\n",
    "Forecast_end_date = \"M03-23\"\n",
    "drivers = ['driver_Month']\n",
    "models = [\"Random Forest\", \"XG Boost\"]\n"
   ]
  },
  {
   "cell_type": "markdown",
   "metadata": {},
   "source": [
    "Custom Functions"
   ]
  },
  {
   "cell_type": "code",
   "execution_count": 222,
   "metadata": {},
   "outputs": [],
   "source": [
    "# Data filter based on start and end date, then split in X and y based on provided columns \n",
    "# split(historical data frame contains drivers and actual, start date , end date, X columns in list, y column in string )\n",
    "def split(data,start_date_key,end_date_key,X_cols,y_col):\n",
    "    data = data[(data['TimeKey']>=start_date_key)&(data['TimeKey']<=end_date_key)]\n",
    "    X = data[['key','TimeKey']+X_cols]\n",
    "    y = data[[y_col]]\n",
    "    return X, y"
   ]
  },
  {
   "cell_type": "code",
   "execution_count": 228,
   "metadata": {},
   "outputs": [],
   "source": [
    "# SK Forecast ML Models\n",
    "# skforecastpredict(models in list, X train data frame, y train data frame, X test data frame ) \n",
    "def skforecastpredict(models, X_train, y_train, X_test):\n",
    "    # Predicted output data frame \n",
    "    Output = pd.DataFrame()\n",
    "\n",
    "    # converting data frame to series, as sk forecast y accept series \n",
    "    y_train_loc = y_train[y_train.columns.values[0]]\n",
    "    \n",
    "    # from sklearn.preprocessing import FunctionTransformer\n",
    "    # transformer_y = FunctionTransformer(func=np.log1p, inverse_func=np.expm1)\n",
    "\n",
    "    # Random Forest ========================================================================================================================= \n",
    "    if \"Random Forest\" in models:\n",
    "        randomforestforecaster = ForecasterAutoreg(\n",
    "                 regressor = RandomForestRegressor(random_state=123),\n",
    "                 lags      = [2]\n",
    "             )\n",
    "        randomforestforecaster.fit(y= y_train_loc)\n",
    "        y_hat_randomforest = randomforestforecaster.predict_interval(steps=11).reset_index(drop=True)\n",
    "        y_hat_randomforest.columns = ['Random Forest Y_hat', 'Random Forest Lower Bound', 'Random Forest Upper Bound']\n",
    "        Output = pd.concat([Output, y_hat_randomforest], axis=1)\n",
    "    # xxxxxxxxxxxxxxxxxxxxxxxxxxxxxxxxxxxxxxxxxxxxxxxxxxxxxxxxxxxxxxxxxxxxxxxxxxxxxxxxxxxxxxxxxxxxxxxxxxxxxxxxxxxxxxxxxxxxxxxxxxxxxxxxxxxxxxxx\n",
    "    \n",
    "    #XG Boost ================================================================================================================================\n",
    "    if \"XG Boost\" in models:\n",
    "        xgboostForecaster = ForecasterAutoreg(\n",
    "                regressor= XGBRegressor(random_state = 213),\n",
    "                lags= [1,2]\n",
    "            )      \n",
    "        xgboostForecaster.fit(y=y_train_loc)\n",
    "        y_hat_xgboost = xgboostForecaster.predict_interval(steps=11).reset_index(drop=True)\n",
    "        y_hat_xgboost.columns = ['XG Boost Y_hat', 'XG Boost Lower Bound', 'XG Boost Upper Bound']\n",
    "        Output = pd.concat([Output, y_hat_xgboost], axis=1)\n",
    "    # xxxxxxxxxxxxxxxxxxxxxxxxxxxxxxxxxxxxxxxxxxxxxxxxxxxxxxxxxxxxxxxxxxxxxxxxxxxxxxxxxxxxxxxxxxxxxxxxxxxxxxxxxxxxxxxxxxxxxxxxxxxxxxxxxxxxxxxx\n",
    "        \n",
    "    return Output"
   ]
  },
  {
   "cell_type": "markdown",
   "metadata": {},
   "source": [
    "Processing Input"
   ]
  },
  {
   "cell_type": "code",
   "execution_count": 212,
   "metadata": {},
   "outputs": [
    {
     "data": {
      "text/plain": [
       "['Version.[Version Name]',\n",
       " 'Channel.[Channel]',\n",
       " 'Account.[Account]',\n",
       " 'PnL.[PnL]',\n",
       " 'Demand Domain.[Demand Domain]',\n",
       " 'Region.[Region]',\n",
       " 'Location.[Location]',\n",
       " 'Item.[Item]']"
      ]
     },
     "execution_count": 212,
     "metadata": {},
     "output_type": "execute_result"
    }
   ],
   "source": [
    "Forecast_level_minus_time = Forecast_level.copy()\n",
    "Forecast_level_minus_time.remove(Time_column[0])\n",
    "Forecast_level_minus_time"
   ]
  },
  {
   "cell_type": "markdown",
   "metadata": {},
   "source": [
    "Copy Input "
   ]
  },
  {
   "cell_type": "code",
   "execution_count": 213,
   "metadata": {},
   "outputs": [],
   "source": [
    "Historical_data = Historical_data_org.copy(deep=True)\n",
    "TimeKey = TimeKey_org.copy(deep=True)\n",
    "TimeKey['TimeKey'] = pd.to_datetime(TimeKey[Time_key_column_name], format=Time_key_date_format)"
   ]
  },
  {
   "cell_type": "code",
   "execution_count": 214,
   "metadata": {},
   "outputs": [],
   "source": [
    "# calculating Historic_end_date_key\n",
    "Historic_start_date_key = pd.to_datetime(TimeKey[TimeKey[Time_column[0]]==Historic_start_date]['TimeKey'].values[0])\n",
    "Historic_end_date_key = pd.to_datetime(TimeKey[TimeKey[Time_column[0]]==Historic_end_date]['TimeKey'].values[0])\n",
    "Forecast_start_date_key = pd.to_datetime(TimeKey[TimeKey[Time_column[0]]==Forecast_start_date]['TimeKey'].values[0])\n",
    "Forecast_end_date_key = pd.to_datetime(TimeKey[TimeKey[Time_column[0]]==Forecast_end_date]['TimeKey'].values[0])"
   ]
  },
  {
   "cell_type": "markdown",
   "metadata": {},
   "source": [
    "Processing Copy Input"
   ]
  },
  {
   "cell_type": "code",
   "execution_count": 215,
   "metadata": {},
   "outputs": [],
   "source": [
    "Historical_data[Historical_data_column] = Historical_data[Historical_data_column].astype(float)\n"
   ]
  },
  {
   "cell_type": "markdown",
   "metadata": {},
   "source": [
    "Creating Key in Historical Data"
   ]
  },
  {
   "cell_type": "code",
   "execution_count": 216,
   "metadata": {},
   "outputs": [
    {
     "data": {
      "text/html": [
       "<div>\n",
       "<style scoped>\n",
       "    .dataframe tbody tr th:only-of-type {\n",
       "        vertical-align: middle;\n",
       "    }\n",
       "\n",
       "    .dataframe tbody tr th {\n",
       "        vertical-align: top;\n",
       "    }\n",
       "\n",
       "    .dataframe thead th {\n",
       "        text-align: right;\n",
       "    }\n",
       "</style>\n",
       "<table border=\"1\" class=\"dataframe\">\n",
       "  <thead>\n",
       "    <tr style=\"text-align: right;\">\n",
       "      <th></th>\n",
       "      <th>Time.[Planning Month]</th>\n",
       "      <th>Actual</th>\n",
       "      <th>key</th>\n",
       "    </tr>\n",
       "  </thead>\n",
       "  <tbody>\n",
       "    <tr>\n",
       "      <th>0</th>\n",
       "      <td>M07-20</td>\n",
       "      <td>445.0</td>\n",
       "      <td>CurrentWorkingView__ MDJoinner__B2B__ MDJoinne...</td>\n",
       "    </tr>\n",
       "    <tr>\n",
       "      <th>1</th>\n",
       "      <td>M08-20</td>\n",
       "      <td>711.0</td>\n",
       "      <td>CurrentWorkingView__ MDJoinner__B2B__ MDJoinne...</td>\n",
       "    </tr>\n",
       "  </tbody>\n",
       "</table>\n",
       "</div>"
      ],
      "text/plain": [
       "  Time.[Planning Month]  Actual  \\\n",
       "0                M07-20   445.0   \n",
       "1                M08-20   711.0   \n",
       "\n",
       "                                                 key  \n",
       "0  CurrentWorkingView__ MDJoinner__B2B__ MDJoinne...  \n",
       "1  CurrentWorkingView__ MDJoinner__B2B__ MDJoinne...  "
      ]
     },
     "execution_count": 216,
     "metadata": {},
     "output_type": "execute_result"
    }
   ],
   "source": [
    "# creating keys \n",
    "Historical_data['key'] = Historical_data[Forecast_level_minus_time].astype(str).agg(\"__ MDJoinner__\".join, axis=1)\n",
    "# dropping columns, which is already present in keys \n",
    "Historical_data.drop(Forecast_level_minus_time,axis=1,inplace=True) \n",
    "Historical_data.head(2)"
   ]
  },
  {
   "cell_type": "markdown",
   "metadata": {},
   "source": [
    "Custom Filter"
   ]
  },
  {
   "cell_type": "code",
   "execution_count": 217,
   "metadata": {},
   "outputs": [],
   "source": [
    "Historical_data = Historical_data[Historical_data['key']=='CurrentWorkingView__ MDJoinner__B2B__ MDJoinner__AMO__ MDJoinner__DP__ MDJoinner__DP__ MDJoinner__ShipTo1__ MDJoinner__DP__ MDJoinner__Loctite 248 19g Stick']\n",
    "# Historical_data['key'].values"
   ]
  },
  {
   "cell_type": "markdown",
   "metadata": {},
   "source": [
    "Merging Time Key in Historical Data"
   ]
  },
  {
   "cell_type": "code",
   "execution_count": 218,
   "metadata": {},
   "outputs": [
    {
     "data": {
      "text/html": [
       "<div>\n",
       "<style scoped>\n",
       "    .dataframe tbody tr th:only-of-type {\n",
       "        vertical-align: middle;\n",
       "    }\n",
       "\n",
       "    .dataframe tbody tr th {\n",
       "        vertical-align: top;\n",
       "    }\n",
       "\n",
       "    .dataframe thead th {\n",
       "        text-align: right;\n",
       "    }\n",
       "</style>\n",
       "<table border=\"1\" class=\"dataframe\">\n",
       "  <thead>\n",
       "    <tr style=\"text-align: right;\">\n",
       "      <th></th>\n",
       "      <th>Time.[Planning Month]</th>\n",
       "      <th>Actual</th>\n",
       "      <th>key</th>\n",
       "      <th>TimeKey</th>\n",
       "    </tr>\n",
       "  </thead>\n",
       "  <tbody>\n",
       "    <tr>\n",
       "      <th>0</th>\n",
       "      <td>M07-20</td>\n",
       "      <td>445.0</td>\n",
       "      <td>CurrentWorkingView__ MDJoinner__B2B__ MDJoinne...</td>\n",
       "      <td>2020-07-05</td>\n",
       "    </tr>\n",
       "    <tr>\n",
       "      <th>1</th>\n",
       "      <td>M08-20</td>\n",
       "      <td>711.0</td>\n",
       "      <td>CurrentWorkingView__ MDJoinner__B2B__ MDJoinne...</td>\n",
       "      <td>2020-08-02</td>\n",
       "    </tr>\n",
       "  </tbody>\n",
       "</table>\n",
       "</div>"
      ],
      "text/plain": [
       "  Time.[Planning Month]  Actual  \\\n",
       "0                M07-20   445.0   \n",
       "1                M08-20   711.0   \n",
       "\n",
       "                                                 key    TimeKey  \n",
       "0  CurrentWorkingView__ MDJoinner__B2B__ MDJoinne... 2020-07-05  \n",
       "1  CurrentWorkingView__ MDJoinner__B2B__ MDJoinne... 2020-08-02  "
      ]
     },
     "execution_count": 218,
     "metadata": {},
     "output_type": "execute_result"
    }
   ],
   "source": [
    "Historical_data = pd.merge(Historical_data,TimeKey[Time_column+[\"TimeKey\"]],on=Time_column,how='left')\n",
    "Historical_data.head(2)"
   ]
  },
  {
   "cell_type": "code",
   "execution_count": 219,
   "metadata": {},
   "outputs": [
    {
     "data": {
      "text/html": [
       "<div>\n",
       "<style scoped>\n",
       "    .dataframe tbody tr th:only-of-type {\n",
       "        vertical-align: middle;\n",
       "    }\n",
       "\n",
       "    .dataframe tbody tr th {\n",
       "        vertical-align: top;\n",
       "    }\n",
       "\n",
       "    .dataframe thead th {\n",
       "        text-align: right;\n",
       "    }\n",
       "</style>\n",
       "<table border=\"1\" class=\"dataframe\">\n",
       "  <thead>\n",
       "    <tr style=\"text-align: right;\">\n",
       "      <th></th>\n",
       "      <th>Time.[Planning Month]</th>\n",
       "      <th>Actual</th>\n",
       "      <th>key</th>\n",
       "      <th>TimeKey</th>\n",
       "      <th>driver_Month</th>\n",
       "    </tr>\n",
       "  </thead>\n",
       "  <tbody>\n",
       "    <tr>\n",
       "      <th>0</th>\n",
       "      <td>M07-20</td>\n",
       "      <td>445.0</td>\n",
       "      <td>CurrentWorkingView__ MDJoinner__B2B__ MDJoinne...</td>\n",
       "      <td>2020-07-05</td>\n",
       "      <td>7</td>\n",
       "    </tr>\n",
       "    <tr>\n",
       "      <th>1</th>\n",
       "      <td>M08-20</td>\n",
       "      <td>711.0</td>\n",
       "      <td>CurrentWorkingView__ MDJoinner__B2B__ MDJoinne...</td>\n",
       "      <td>2020-08-02</td>\n",
       "      <td>8</td>\n",
       "    </tr>\n",
       "    <tr>\n",
       "      <th>2</th>\n",
       "      <td>M09-20</td>\n",
       "      <td>462.0</td>\n",
       "      <td>CurrentWorkingView__ MDJoinner__B2B__ MDJoinne...</td>\n",
       "      <td>2020-08-30</td>\n",
       "      <td>8</td>\n",
       "    </tr>\n",
       "    <tr>\n",
       "      <th>3</th>\n",
       "      <td>M10-20</td>\n",
       "      <td>174.0</td>\n",
       "      <td>CurrentWorkingView__ MDJoinner__B2B__ MDJoinne...</td>\n",
       "      <td>2020-10-04</td>\n",
       "      <td>10</td>\n",
       "    </tr>\n",
       "    <tr>\n",
       "      <th>4</th>\n",
       "      <td>M11-20</td>\n",
       "      <td>179.0</td>\n",
       "      <td>CurrentWorkingView__ MDJoinner__B2B__ MDJoinne...</td>\n",
       "      <td>2020-11-01</td>\n",
       "      <td>11</td>\n",
       "    </tr>\n",
       "  </tbody>\n",
       "</table>\n",
       "</div>"
      ],
      "text/plain": [
       "  Time.[Planning Month]  Actual  \\\n",
       "0                M07-20   445.0   \n",
       "1                M08-20   711.0   \n",
       "2                M09-20   462.0   \n",
       "3                M10-20   174.0   \n",
       "4                M11-20   179.0   \n",
       "\n",
       "                                                 key    TimeKey  driver_Month  \n",
       "0  CurrentWorkingView__ MDJoinner__B2B__ MDJoinne... 2020-07-05             7  \n",
       "1  CurrentWorkingView__ MDJoinner__B2B__ MDJoinne... 2020-08-02             8  \n",
       "2  CurrentWorkingView__ MDJoinner__B2B__ MDJoinne... 2020-08-30             8  \n",
       "3  CurrentWorkingView__ MDJoinner__B2B__ MDJoinne... 2020-10-04            10  \n",
       "4  CurrentWorkingView__ MDJoinner__B2B__ MDJoinne... 2020-11-01            11  "
      ]
     },
     "execution_count": 219,
     "metadata": {},
     "output_type": "execute_result"
    }
   ],
   "source": [
    "# Creating drivers \n",
    "Historical_data['driver_Month'] = Historical_data['TimeKey'].dt.month\n",
    "Historical_data.head()"
   ]
  },
  {
   "cell_type": "markdown",
   "metadata": {},
   "source": [
    "Train and Test Data"
   ]
  },
  {
   "cell_type": "code",
   "execution_count": 220,
   "metadata": {},
   "outputs": [],
   "source": [
    "X_train, y_train = split(Historical_data, Historic_start_date_key,Historic_end_date_key,drivers,Historical_data_column[0])\n",
    "X_test,y_test = split(Historical_data, Forecast_start_date_key, Forecast_end_date_key, drivers, Historical_data_column[0])"
   ]
  },
  {
   "cell_type": "markdown",
   "metadata": {},
   "source": [
    "Prediction"
   ]
  },
  {
   "cell_type": "code",
   "execution_count": 229,
   "metadata": {},
   "outputs": [
    {
     "data": {
      "text/html": [
       "<div>\n",
       "<style scoped>\n",
       "    .dataframe tbody tr th:only-of-type {\n",
       "        vertical-align: middle;\n",
       "    }\n",
       "\n",
       "    .dataframe tbody tr th {\n",
       "        vertical-align: top;\n",
       "    }\n",
       "\n",
       "    .dataframe thead th {\n",
       "        text-align: right;\n",
       "    }\n",
       "</style>\n",
       "<table border=\"1\" class=\"dataframe\">\n",
       "  <thead>\n",
       "    <tr style=\"text-align: right;\">\n",
       "      <th></th>\n",
       "      <th>Random Forest Y_hat</th>\n",
       "      <th>Random Forest Lower Bound</th>\n",
       "      <th>Random Forest Upper Bound</th>\n",
       "      <th>XG Boost Y_hat</th>\n",
       "      <th>XG Boost Lower Bound</th>\n",
       "      <th>XG Boost Upper Bound</th>\n",
       "    </tr>\n",
       "  </thead>\n",
       "  <tbody>\n",
       "    <tr>\n",
       "      <th>0</th>\n",
       "      <td>242.180</td>\n",
       "      <td>171.91925</td>\n",
       "      <td>416.80000</td>\n",
       "      <td>241.001587</td>\n",
       "      <td>240.999939</td>\n",
       "      <td>241.003296</td>\n",
       "    </tr>\n",
       "    <tr>\n",
       "      <th>1</th>\n",
       "      <td>275.090</td>\n",
       "      <td>206.50500</td>\n",
       "      <td>449.71000</td>\n",
       "      <td>228.000656</td>\n",
       "      <td>227.999008</td>\n",
       "      <td>228.002365</td>\n",
       "    </tr>\n",
       "    <tr>\n",
       "      <th>2</th>\n",
       "      <td>261.680</td>\n",
       "      <td>120.64050</td>\n",
       "      <td>566.39950</td>\n",
       "      <td>245.999619</td>\n",
       "      <td>245.997971</td>\n",
       "      <td>246.001511</td>\n",
       "    </tr>\n",
       "    <tr>\n",
       "      <th>3</th>\n",
       "      <td>539.310</td>\n",
       "      <td>146.78275</td>\n",
       "      <td>667.02900</td>\n",
       "      <td>209.000092</td>\n",
       "      <td>208.998444</td>\n",
       "      <td>209.001801</td>\n",
       "    </tr>\n",
       "    <tr>\n",
       "      <th>4</th>\n",
       "      <td>244.500</td>\n",
       "      <td>153.08075</td>\n",
       "      <td>621.96000</td>\n",
       "      <td>167.000000</td>\n",
       "      <td>166.998352</td>\n",
       "      <td>167.001709</td>\n",
       "    </tr>\n",
       "    <tr>\n",
       "      <th>5</th>\n",
       "      <td>452.380</td>\n",
       "      <td>131.19425</td>\n",
       "      <td>629.60000</td>\n",
       "      <td>174.999649</td>\n",
       "      <td>174.997864</td>\n",
       "      <td>175.001541</td>\n",
       "    </tr>\n",
       "    <tr>\n",
       "      <th>6</th>\n",
       "      <td>225.340</td>\n",
       "      <td>138.79750</td>\n",
       "      <td>609.27000</td>\n",
       "      <td>231.998749</td>\n",
       "      <td>231.997101</td>\n",
       "      <td>232.000458</td>\n",
       "    </tr>\n",
       "    <tr>\n",
       "      <th>7</th>\n",
       "      <td>221.270</td>\n",
       "      <td>137.12175</td>\n",
       "      <td>571.63900</td>\n",
       "      <td>539.998108</td>\n",
       "      <td>539.996460</td>\n",
       "      <td>539.999817</td>\n",
       "    </tr>\n",
       "    <tr>\n",
       "      <th>8</th>\n",
       "      <td>215.460</td>\n",
       "      <td>141.00500</td>\n",
       "      <td>595.91575</td>\n",
       "      <td>731.998291</td>\n",
       "      <td>731.996643</td>\n",
       "      <td>732.000000</td>\n",
       "    </tr>\n",
       "    <tr>\n",
       "      <th>9</th>\n",
       "      <td>202.755</td>\n",
       "      <td>139.73150</td>\n",
       "      <td>627.32000</td>\n",
       "      <td>626.998901</td>\n",
       "      <td>626.997116</td>\n",
       "      <td>627.000610</td>\n",
       "    </tr>\n",
       "    <tr>\n",
       "      <th>10</th>\n",
       "      <td>164.070</td>\n",
       "      <td>138.00900</td>\n",
       "      <td>619.86200</td>\n",
       "      <td>133.000122</td>\n",
       "      <td>132.998474</td>\n",
       "      <td>133.001831</td>\n",
       "    </tr>\n",
       "  </tbody>\n",
       "</table>\n",
       "</div>"
      ],
      "text/plain": [
       "    Random Forest Y_hat  Random Forest Lower Bound  Random Forest Upper Bound  \\\n",
       "0               242.180                  171.91925                  416.80000   \n",
       "1               275.090                  206.50500                  449.71000   \n",
       "2               261.680                  120.64050                  566.39950   \n",
       "3               539.310                  146.78275                  667.02900   \n",
       "4               244.500                  153.08075                  621.96000   \n",
       "5               452.380                  131.19425                  629.60000   \n",
       "6               225.340                  138.79750                  609.27000   \n",
       "7               221.270                  137.12175                  571.63900   \n",
       "8               215.460                  141.00500                  595.91575   \n",
       "9               202.755                  139.73150                  627.32000   \n",
       "10              164.070                  138.00900                  619.86200   \n",
       "\n",
       "    XG Boost Y_hat  XG Boost Lower Bound  XG Boost Upper Bound  \n",
       "0       241.001587            240.999939            241.003296  \n",
       "1       228.000656            227.999008            228.002365  \n",
       "2       245.999619            245.997971            246.001511  \n",
       "3       209.000092            208.998444            209.001801  \n",
       "4       167.000000            166.998352            167.001709  \n",
       "5       174.999649            174.997864            175.001541  \n",
       "6       231.998749            231.997101            232.000458  \n",
       "7       539.998108            539.996460            539.999817  \n",
       "8       731.998291            731.996643            732.000000  \n",
       "9       626.998901            626.997116            627.000610  \n",
       "10      133.000122            132.998474            133.001831  "
      ]
     },
     "execution_count": 229,
     "metadata": {},
     "output_type": "execute_result"
    }
   ],
   "source": [
    "skforecastpredict(models,X_train, y_train, X_test)"
   ]
  }
 ],
 "metadata": {
  "kernelspec": {
   "display_name": "Henkel",
   "language": "python",
   "name": "python3"
  },
  "language_info": {
   "codemirror_mode": {
    "name": "ipython",
    "version": 3
   },
   "file_extension": ".py",
   "mimetype": "text/x-python",
   "name": "python",
   "nbconvert_exporter": "python",
   "pygments_lexer": "ipython3",
   "version": "3.11.5"
  }
 },
 "nbformat": 4,
 "nbformat_minor": 2
}
