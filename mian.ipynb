{
 "cells": [
  {
   "cell_type": "markdown",
   "metadata": {},
   "source": [
    "dependencies </n>\n",
    "Env :: Forecastinit\n",
    "Python=3.11.5"
   ]
  },
  {
   "cell_type": "markdown",
   "metadata": {},
   "source": [
    "Libraries"
   ]
  },
  {
   "cell_type": "code",
   "execution_count": 72,
   "metadata": {},
   "outputs": [],
   "source": [
    "import pandas as pd\n",
    "import numpy as np"
   ]
  },
  {
   "cell_type": "markdown",
   "metadata": {},
   "source": [
    "Input"
   ]
  },
  {
   "cell_type": "code",
   "execution_count": 73,
   "metadata": {},
   "outputs": [],
   "source": [
    "Historical_data_org = pd.read_csv('Input/Actual.csv')\n",
    "TimeKey_org = pd.read_csv('Input/Time.csv')\n",
    "Forecast_level = ['Version.[Version Name]', 'Channel.[Channel]', 'Account.[Account]',\n",
    "       'PnL.[PnL]', 'Demand Domain.[Demand Domain]', 'Region.[Region]',\n",
    "       'Location.[Location]', 'Time.[Planning Month]', 'Item.[Item]']\n",
    "Time_column = ['Time.[Planning Month]']\n",
    "Historical_data_column = ['Actual']\n",
    "#Date should be in format of time key column, which is available in TimeKey file \n",
    "Time_key_column_name = \"Time.[PlanningMonthKey]\"\n",
    "Time_key_date_format = \"%m/%d/%Y %I:%M:%S %p\"\n",
    "Historic_start_date = \"M09-20\" \n",
    "Historic_end_date = \"M12-22\"\n",
    "Forecast_start_date = \"M01-23\"\n",
    "Forecast_end_date = \"M03-23\"\n"
   ]
  },
  {
   "cell_type": "markdown",
   "metadata": {},
   "source": [
    "Processing Input"
   ]
  },
  {
   "cell_type": "code",
   "execution_count": 74,
   "metadata": {},
   "outputs": [
    {
     "data": {
      "text/plain": [
       "['Version.[Version Name]',\n",
       " 'Channel.[Channel]',\n",
       " 'Account.[Account]',\n",
       " 'PnL.[PnL]',\n",
       " 'Demand Domain.[Demand Domain]',\n",
       " 'Region.[Region]',\n",
       " 'Location.[Location]',\n",
       " 'Item.[Item]']"
      ]
     },
     "execution_count": 74,
     "metadata": {},
     "output_type": "execute_result"
    }
   ],
   "source": [
    "Forecast_level_minus_time = Forecast_level.copy()\n",
    "Forecast_level_minus_time.remove(Time_column[0])\n",
    "Forecast_level_minus_time"
   ]
  },
  {
   "cell_type": "markdown",
   "metadata": {},
   "source": [
    "Copy Input "
   ]
  },
  {
   "cell_type": "code",
   "execution_count": 75,
   "metadata": {},
   "outputs": [],
   "source": [
    "Historical_data = Historical_data_org.copy(deep=True)\n",
    "TimeKey = TimeKey_org.copy(deep=True)\n",
    "TimeKey['TimeKey'] = pd.to_datetime(TimeKey[Time_key_column_name], format=Time_key_date_format)"
   ]
  },
  {
   "cell_type": "code",
   "execution_count": 76,
   "metadata": {},
   "outputs": [],
   "source": [
    "# calculating Historic_end_date_key\n",
    "Historic_start_date_key = pd.to_datetime(TimeKey[TimeKey[Time_column[0]]==Historic_start_date]['TimeKey'].values[0])\n",
    "Historic_end_date_key = pd.to_datetime(TimeKey[TimeKey[Time_column[0]]==Historic_end_date]['TimeKey'].values[0])\n",
    "Forecast_start_date_key = pd.to_datetime(TimeKey[TimeKey[Time_column[0]]==Forecast_start_date]['TimeKey'].values[0])\n",
    "Forecast_end_date_key = pd.to_datetime(TimeKey[TimeKey[Time_column[0]]==Forecast_end_date]['TimeKey'].values[0])"
   ]
  },
  {
   "cell_type": "markdown",
   "metadata": {},
   "source": [
    "Processing Copy Input"
   ]
  },
  {
   "cell_type": "code",
   "execution_count": 77,
   "metadata": {},
   "outputs": [],
   "source": [
    "Historical_data[Historical_data_column] = Historical_data[Historical_data_column].astype(float)\n"
   ]
  },
  {
   "cell_type": "markdown",
   "metadata": {},
   "source": [
    "Creating Key in Historical Data"
   ]
  },
  {
   "cell_type": "code",
   "execution_count": 78,
   "metadata": {},
   "outputs": [
    {
     "data": {
      "text/html": [
       "<div>\n",
       "<style scoped>\n",
       "    .dataframe tbody tr th:only-of-type {\n",
       "        vertical-align: middle;\n",
       "    }\n",
       "\n",
       "    .dataframe tbody tr th {\n",
       "        vertical-align: top;\n",
       "    }\n",
       "\n",
       "    .dataframe thead th {\n",
       "        text-align: right;\n",
       "    }\n",
       "</style>\n",
       "<table border=\"1\" class=\"dataframe\">\n",
       "  <thead>\n",
       "    <tr style=\"text-align: right;\">\n",
       "      <th></th>\n",
       "      <th>Time.[Planning Month]</th>\n",
       "      <th>Actual</th>\n",
       "      <th>key</th>\n",
       "    </tr>\n",
       "  </thead>\n",
       "  <tbody>\n",
       "    <tr>\n",
       "      <th>0</th>\n",
       "      <td>M07-20</td>\n",
       "      <td>445.0</td>\n",
       "      <td>CurrentWorkingView__ MDJoinner__B2B__ MDJoinne...</td>\n",
       "    </tr>\n",
       "    <tr>\n",
       "      <th>1</th>\n",
       "      <td>M08-20</td>\n",
       "      <td>711.0</td>\n",
       "      <td>CurrentWorkingView__ MDJoinner__B2B__ MDJoinne...</td>\n",
       "    </tr>\n",
       "  </tbody>\n",
       "</table>\n",
       "</div>"
      ],
      "text/plain": [
       "  Time.[Planning Month]  Actual  \\\n",
       "0                M07-20   445.0   \n",
       "1                M08-20   711.0   \n",
       "\n",
       "                                                 key  \n",
       "0  CurrentWorkingView__ MDJoinner__B2B__ MDJoinne...  \n",
       "1  CurrentWorkingView__ MDJoinner__B2B__ MDJoinne...  "
      ]
     },
     "execution_count": 78,
     "metadata": {},
     "output_type": "execute_result"
    }
   ],
   "source": [
    "# creating keys \n",
    "Historical_data['key'] = Historical_data[Forecast_level_minus_time].astype(str).agg(\"__ MDJoinner__\".join, axis=1)\n",
    "# dropping columns, which is already present in keys \n",
    "Historical_data.drop(Forecast_level_minus_time,axis=1,inplace=True) \n",
    "Historical_data.head(2)"
   ]
  },
  {
   "cell_type": "markdown",
   "metadata": {},
   "source": [
    "Merging Time Key in Historical Data"
   ]
  },
  {
   "cell_type": "code",
   "execution_count": 79,
   "metadata": {},
   "outputs": [
    {
     "data": {
      "text/html": [
       "<div>\n",
       "<style scoped>\n",
       "    .dataframe tbody tr th:only-of-type {\n",
       "        vertical-align: middle;\n",
       "    }\n",
       "\n",
       "    .dataframe tbody tr th {\n",
       "        vertical-align: top;\n",
       "    }\n",
       "\n",
       "    .dataframe thead th {\n",
       "        text-align: right;\n",
       "    }\n",
       "</style>\n",
       "<table border=\"1\" class=\"dataframe\">\n",
       "  <thead>\n",
       "    <tr style=\"text-align: right;\">\n",
       "      <th></th>\n",
       "      <th>Time.[Planning Month]</th>\n",
       "      <th>Actual</th>\n",
       "      <th>key</th>\n",
       "      <th>TimeKey</th>\n",
       "    </tr>\n",
       "  </thead>\n",
       "  <tbody>\n",
       "    <tr>\n",
       "      <th>0</th>\n",
       "      <td>M07-20</td>\n",
       "      <td>445.0</td>\n",
       "      <td>CurrentWorkingView__ MDJoinner__B2B__ MDJoinne...</td>\n",
       "      <td>2020-07-05</td>\n",
       "    </tr>\n",
       "    <tr>\n",
       "      <th>1</th>\n",
       "      <td>M08-20</td>\n",
       "      <td>711.0</td>\n",
       "      <td>CurrentWorkingView__ MDJoinner__B2B__ MDJoinne...</td>\n",
       "      <td>2020-08-02</td>\n",
       "    </tr>\n",
       "  </tbody>\n",
       "</table>\n",
       "</div>"
      ],
      "text/plain": [
       "  Time.[Planning Month]  Actual  \\\n",
       "0                M07-20   445.0   \n",
       "1                M08-20   711.0   \n",
       "\n",
       "                                                 key    TimeKey  \n",
       "0  CurrentWorkingView__ MDJoinner__B2B__ MDJoinne... 2020-07-05  \n",
       "1  CurrentWorkingView__ MDJoinner__B2B__ MDJoinne... 2020-08-02  "
      ]
     },
     "execution_count": 79,
     "metadata": {},
     "output_type": "execute_result"
    }
   ],
   "source": [
    "Historical_data = pd.merge(Historical_data,TimeKey[Time_column+[\"TimeKey\"]],on=Time_column,how='left')\n",
    "Historical_data.head(2)"
   ]
  },
  {
   "cell_type": "markdown",
   "metadata": {},
   "source": [
    "Train Data"
   ]
  },
  {
   "cell_type": "code",
   "execution_count": 88,
   "metadata": {},
   "outputs": [],
   "source": [
    "train = Historical_data[(Historical_data['TimeKey']>=Historic_start_date_key)&(Historical_data['TimeKey']<=Historic_end_date_key)]\n",
    "X_train = train[['key','TimeKey']]\n",
    "y_train = train[[Historical_data_column[0]]]"
   ]
  },
  {
   "cell_type": "markdown",
   "metadata": {},
   "source": [
    "Test Data"
   ]
  },
  {
   "cell_type": "code",
   "execution_count": 91,
   "metadata": {},
   "outputs": [],
   "source": [
    "test = Historical_data[(Historical_data['TimeKey']>=Forecast_start_date_key)&(Historical_data['TimeKey']<=Forecast_end_date_key)]\n",
    "X_test = test[['key','TimeKey']]\n",
    "y_test = test[[Historical_data_column[0]]]"
   ]
  },
  {
   "cell_type": "code",
   "execution_count": null,
   "metadata": {},
   "outputs": [],
   "source": []
  }
 ],
 "metadata": {
  "kernelspec": {
   "display_name": "Henkel",
   "language": "python",
   "name": "python3"
  },
  "language_info": {
   "codemirror_mode": {
    "name": "ipython",
    "version": 3
   },
   "file_extension": ".py",
   "mimetype": "text/x-python",
   "name": "python",
   "nbconvert_exporter": "python",
   "pygments_lexer": "ipython3",
   "version": "3.11.5"
  }
 },
 "nbformat": 4,
 "nbformat_minor": 2
}
